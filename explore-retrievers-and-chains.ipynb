{
 "cells": [
  {
   "cell_type": "markdown",
   "metadata": {
    "id": "I8F3XGz_dyXc"
   },
   "source": [
    "# Explore Retrievers & Chains\n",
    "<img src=\"images/demo-stack.png\" alt=\"summary\" width=\"1000\"/>\n",
    "\n",
    "    "
   ]
  },
  {
   "cell_type": "markdown",
   "metadata": {
    "id": "cmjr1dz8dyXd"
   },
   "source": [
    "## Setup"
   ]
  },
  {
   "cell_type": "code",
   "execution_count": null,
   "metadata": {
    "ExecuteTime": {
     "end_time": "2024-06-25T14:14:49.948771Z",
     "start_time": "2024-06-25T14:14:46.606817Z"
    },
    "colab": {
     "base_uri": "https://localhost:8080/"
    },
    "id": "yY1XylsiZACB",
    "outputId": "2db89b75-7918-4270-a300-8503a816ec87",
    "pycharm": {
     "name": "#%%capture\n"
    },
    "tags": []
   },
   "outputs": [],
   "source": [
    "%%capture\n",
    "%pip install sentence_transformers langchain langchain-openai langchain_community openai tiktoken python-dotenv gradio graphdatascience altair\n",
    "%pip install \"vegafusion[embed]\""
   ]
  },
  {
   "cell_type": "code",
   "execution_count": 1,
   "metadata": {
    "ExecuteTime": {
     "end_time": "2024-09-05T16:38:04.899332Z",
     "start_time": "2024-09-05T16:38:01.444950Z"
    },
    "id": "7psF1otOdyXe",
    "tags": []
   },
   "outputs": [],
   "source": [
    "import pandas as pd\n",
    "\n",
    "pd.set_option('display.max_rows', 7)\n",
    "pd.set_option('display.max_colwidth', 100)\n",
    "pd.set_option('display.width', 0)"
   ]
  },
  {
   "cell_type": "code",
   "execution_count": 2,
   "metadata": {
    "ExecuteTime": {
     "end_time": "2024-09-05T16:38:04.903782Z",
     "start_time": "2024-09-05T16:38:04.900300Z"
    },
    "id": "o-98NuINdyXe",
    "tags": []
   },
   "outputs": [],
   "source": [
    "# You can skip this cell if not using a ws.env file - alternative to above\n",
    "from dotenv import load_dotenv\n",
    "import os\n",
    "\n",
    "load_dotenv('.env', override=True)\n",
    "\n",
    "# Neo4j\n",
    "NEO4J_URI = os.getenv('NEO4J_URI')\n",
    "NEO4J_USERNAME = os.getenv('NEO4J_USERNAME')\n",
    "NEO4J_PASSWORD = os.getenv('NEO4J_PASSWORD')\n",
    "\n",
    "# AI\n",
    "LLM = 'gpt-4o'\n",
    "OPENAI_API_KEY = os.getenv('OPENAI_API_KEY')"
   ]
  },
  {
   "cell_type": "markdown",
   "metadata": {},
   "source": [
    "## Discovery & Search Retriever\n",
    "\n",
    "<img src=\"images/app-flow-semantic-search.png\" alt=\"summary\" width=\"1000\"/>\n"
   ]
  },
  {
   "cell_type": "code",
   "execution_count": 3,
   "metadata": {
    "ExecuteTime": {
     "end_time": "2024-09-05T16:38:09.335968Z",
     "start_time": "2024-09-05T16:38:07.384831Z"
    }
   },
   "outputs": [
    {
     "data": {
      "text/html": [
       "<div>\n",
       "<style scoped>\n",
       "    .dataframe tbody tr th:only-of-type {\n",
       "        vertical-align: middle;\n",
       "    }\n",
       "\n",
       "    .dataframe tbody tr th {\n",
       "        vertical-align: top;\n",
       "    }\n",
       "\n",
       "    .dataframe thead th {\n",
       "        text-align: right;\n",
       "    }\n",
       "</style>\n",
       "<table border=\"1\" class=\"dataframe\">\n",
       "  <thead>\n",
       "    <tr style=\"text-align: right;\">\n",
       "      <th></th>\n",
       "      <th>productCode</th>\n",
       "      <th>document</th>\n",
       "      <th>score</th>\n",
       "    </tr>\n",
       "  </thead>\n",
       "  <tbody>\n",
       "    <tr>\n",
       "      <th>0</th>\n",
       "      <td>252298</td>\n",
       "      <td>##Product\\nName: Didi denim\\nType: Trousers\\nGroup: Garment Lower body\\nGarment Type: Dresses La...</td>\n",
       "      <td>0.938463</td>\n",
       "    </tr>\n",
       "    <tr>\n",
       "      <th>1</th>\n",
       "      <td>598423</td>\n",
       "      <td>##Product\\nName: Night Denim\\nType: Trousers\\nGroup: Garment Lower body\\nGarment Type: Dresses L...</td>\n",
       "      <td>0.936840</td>\n",
       "    </tr>\n",
       "    <tr>\n",
       "      <th>2</th>\n",
       "      <td>727804</td>\n",
       "      <td>##Product\\nName: Didi HW Skinny denim\\nType: Trousers\\nGroup: Garment Lower body\\nGarment Type: ...</td>\n",
       "      <td>0.934703</td>\n",
       "    </tr>\n",
       "    <tr>\n",
       "      <th>...</th>\n",
       "      <td>...</td>\n",
       "      <td>...</td>\n",
       "      <td>...</td>\n",
       "    </tr>\n",
       "    <tr>\n",
       "      <th>97</th>\n",
       "      <td>663133</td>\n",
       "      <td>##Product\\nName: RELAXED SKINNY\\nType: Trousers\\nGroup: Garment Lower body\\nGarment Type: Trouse...</td>\n",
       "      <td>0.922477</td>\n",
       "    </tr>\n",
       "    <tr>\n",
       "      <th>98</th>\n",
       "      <td>820827</td>\n",
       "      <td>##Product\\nName: Jade HW Skinny Button dnm\\nType: Trousers\\nGroup: Garment Lower body\\nGarment T...</td>\n",
       "      <td>0.922452</td>\n",
       "    </tr>\n",
       "    <tr>\n",
       "      <th>99</th>\n",
       "      <td>309864</td>\n",
       "      <td>##Product\\nName: Skinny Cheapo 89\\nType: Trousers\\nGroup: Garment Lower body\\nGarment Type: Trou...</td>\n",
       "      <td>0.922402</td>\n",
       "    </tr>\n",
       "  </tbody>\n",
       "</table>\n",
       "<p>100 rows × 3 columns</p>\n",
       "</div>"
      ],
      "text/plain": [
       "    productCode  \\\n",
       "0        252298   \n",
       "1        598423   \n",
       "2        727804   \n",
       "..          ...   \n",
       "97       663133   \n",
       "98       820827   \n",
       "99       309864   \n",
       "\n",
       "                                                                                               document  \\\n",
       "0   ##Product\\nName: Didi denim\\nType: Trousers\\nGroup: Garment Lower body\\nGarment Type: Dresses La...   \n",
       "1   ##Product\\nName: Night Denim\\nType: Trousers\\nGroup: Garment Lower body\\nGarment Type: Dresses L...   \n",
       "2   ##Product\\nName: Didi HW Skinny denim\\nType: Trousers\\nGroup: Garment Lower body\\nGarment Type: ...   \n",
       "..                                                                                                  ...   \n",
       "97  ##Product\\nName: RELAXED SKINNY\\nType: Trousers\\nGroup: Garment Lower body\\nGarment Type: Trouse...   \n",
       "98  ##Product\\nName: Jade HW Skinny Button dnm\\nType: Trousers\\nGroup: Garment Lower body\\nGarment T...   \n",
       "99  ##Product\\nName: Skinny Cheapo 89\\nType: Trousers\\nGroup: Garment Lower body\\nGarment Type: Trou...   \n",
       "\n",
       "       score  \n",
       "0   0.938463  \n",
       "1   0.936840  \n",
       "2   0.934703  \n",
       "..       ...  \n",
       "97  0.922477  \n",
       "98  0.922452  \n",
       "99  0.922402  \n",
       "\n",
       "[100 rows x 3 columns]"
      ]
     },
     "execution_count": 3,
     "metadata": {},
     "output_type": "execute_result"
    }
   ],
   "source": [
    "from langchain.vectorstores.neo4j_vector import Neo4jVector\n",
    "from langchain_openai import OpenAIEmbeddings\n",
    "import pandas as pd\n",
    "\n",
    "search_prompt = 'denim jeans'\n",
    "\n",
    "embedding_model = OpenAIEmbeddings()\n",
    "\n",
    "# define retriever\n",
    "vector_only_search = Neo4jVector.from_existing_index(\n",
    "    embedding=embedding_model,\n",
    "    url=NEO4J_URI,\n",
    "    username=NEO4J_USERNAME,\n",
    "    password=NEO4J_PASSWORD,\n",
    "    index_name='product_text_embeddings',\n",
    "    retrieval_query=\"\"\"\n",
    "    WITH node AS product, score\n",
    "    RETURN product.productCode AS productCode,\n",
    "        product.text AS text, score,\n",
    "        {score:score, productCode: product.productCode} AS metadata\n",
    "        ORDER BY score DESC\n",
    "        \"\"\")\n",
    "\n",
    "# similarity search\n",
    "vector_only_res = vector_only_search.similarity_search(search_prompt, k=100)\n",
    "\n",
    "# Visualize as a dataframe\n",
    "vector_only_df = pd.DataFrame([{'productCode': d.metadata['productCode'],\n",
    "                                'document': d.page_content,\n",
    "                                'score': d.metadata['score']} for d in vector_only_res])\n",
    "vector_only_df"
   ]
  },
  {
   "cell_type": "code",
   "execution_count": 7,
   "metadata": {
    "ExecuteTime": {
     "end_time": "2024-09-05T16:38:11.127348Z",
     "start_time": "2024-09-05T16:38:09.628712Z"
    }
   },
   "outputs": [
    {
     "data": {
      "text/html": [
       "<div>\n",
       "<style scoped>\n",
       "    .dataframe tbody tr th:only-of-type {\n",
       "        vertical-align: middle;\n",
       "    }\n",
       "\n",
       "    .dataframe tbody tr th {\n",
       "        vertical-align: top;\n",
       "    }\n",
       "\n",
       "    .dataframe thead th {\n",
       "        text-align: right;\n",
       "    }\n",
       "</style>\n",
       "<table border=\"1\" class=\"dataframe\">\n",
       "  <thead>\n",
       "    <tr style=\"text-align: right;\">\n",
       "      <th></th>\n",
       "      <th>productCode</th>\n",
       "      <th>document</th>\n",
       "      <th>vectorScore</th>\n",
       "      <th>graphScore</th>\n",
       "    </tr>\n",
       "  </thead>\n",
       "  <tbody>\n",
       "    <tr>\n",
       "      <th>0</th>\n",
       "      <td>670698</td>\n",
       "      <td>##Product\\nName: Rachel HW Denim TRS\\nType: Trousers\\nGroup: Garment Lower body\\nGarment Type: T...</td>\n",
       "      <td>0.922642</td>\n",
       "      <td>22</td>\n",
       "    </tr>\n",
       "    <tr>\n",
       "      <th>1</th>\n",
       "      <td>706016</td>\n",
       "      <td>##Product\\nName: Jade HW Skinny Denim TRS\\nType: Trousers\\nGroup: Garment Lower body\\nGarment Ty...</td>\n",
       "      <td>0.926760</td>\n",
       "      <td>11</td>\n",
       "    </tr>\n",
       "    <tr>\n",
       "      <th>2</th>\n",
       "      <td>777038</td>\n",
       "      <td>##Product\\nName: Bono NW slim denim\\nType: Trousers\\nGroup: Garment Lower body\\nGarment Type: Tr...</td>\n",
       "      <td>0.926300</td>\n",
       "      <td>8</td>\n",
       "    </tr>\n",
       "    <tr>\n",
       "      <th>...</th>\n",
       "      <td>...</td>\n",
       "      <td>...</td>\n",
       "      <td>...</td>\n",
       "      <td>...</td>\n",
       "    </tr>\n",
       "    <tr>\n",
       "      <th>12</th>\n",
       "      <td>598423</td>\n",
       "      <td>##Product\\nName: Night Denim\\nType: Trousers\\nGroup: Garment Lower body\\nGarment Type: Dresses L...</td>\n",
       "      <td>0.936840</td>\n",
       "      <td>0</td>\n",
       "    </tr>\n",
       "    <tr>\n",
       "      <th>13</th>\n",
       "      <td>727804</td>\n",
       "      <td>##Product\\nName: Didi HW Skinny denim\\nType: Trousers\\nGroup: Garment Lower body\\nGarment Type: ...</td>\n",
       "      <td>0.934703</td>\n",
       "      <td>0</td>\n",
       "    </tr>\n",
       "    <tr>\n",
       "      <th>14</th>\n",
       "      <td>652924</td>\n",
       "      <td>##Product\\nName: &amp;DENIM Jeggings HW\\nType: Trousers\\nGroup: Garment Lower body\\nGarment Type: Tr...</td>\n",
       "      <td>0.934462</td>\n",
       "      <td>0</td>\n",
       "    </tr>\n",
       "  </tbody>\n",
       "</table>\n",
       "<p>15 rows × 4 columns</p>\n",
       "</div>"
      ],
      "text/plain": [
       "    productCode  \\\n",
       "0        670698   \n",
       "1        706016   \n",
       "2        777038   \n",
       "..          ...   \n",
       "12       598423   \n",
       "13       727804   \n",
       "14       652924   \n",
       "\n",
       "                                                                                               document  \\\n",
       "0   ##Product\\nName: Rachel HW Denim TRS\\nType: Trousers\\nGroup: Garment Lower body\\nGarment Type: T...   \n",
       "1   ##Product\\nName: Jade HW Skinny Denim TRS\\nType: Trousers\\nGroup: Garment Lower body\\nGarment Ty...   \n",
       "2   ##Product\\nName: Bono NW slim denim\\nType: Trousers\\nGroup: Garment Lower body\\nGarment Type: Tr...   \n",
       "..                                                                                                  ...   \n",
       "12  ##Product\\nName: Night Denim\\nType: Trousers\\nGroup: Garment Lower body\\nGarment Type: Dresses L...   \n",
       "13  ##Product\\nName: Didi HW Skinny denim\\nType: Trousers\\nGroup: Garment Lower body\\nGarment Type: ...   \n",
       "14  ##Product\\nName: &DENIM Jeggings HW\\nType: Trousers\\nGroup: Garment Lower body\\nGarment Type: Tr...   \n",
       "\n",
       "    vectorScore  graphScore  \n",
       "0      0.922642          22  \n",
       "1      0.926760          11  \n",
       "2      0.926300           8  \n",
       "..          ...         ...  \n",
       "12     0.936840           0  \n",
       "13     0.934703           0  \n",
       "14     0.934462           0  \n",
       "\n",
       "[15 rows x 4 columns]"
      ]
     },
     "execution_count": 7,
     "metadata": {},
     "output_type": "execute_result"
    }
   ],
   "source": [
    "# define retriever\n",
    "kg_search = Neo4jVector.from_existing_index(\n",
    "    embedding=embedding_model,\n",
    "    url=NEO4J_URI,\n",
    "    username=NEO4J_USERNAME,\n",
    "    password=NEO4J_PASSWORD,\n",
    "    index_name='product_text_embeddings',\n",
    "    retrieval_query=\"\"\"\n",
    "    WITH node AS product, score AS vectorScore\n",
    "\n",
    "    OPTIONAL MATCH(product)<-[:VARIANT_OF]-(:Article)<-[:PURCHASED]-(:Customer)\n",
    "    -[:PURCHASED]->(a:Article)<-[:PURCHASED]-(:Customer {customerId: $customerId})\n",
    "\n",
    "    WITH count(a) AS graphScore, \n",
    "        product.text AS text, \n",
    "        vectorScore, \n",
    "        product.productCode AS productCode\n",
    "    RETURN text,\n",
    "        (1+graphScore)*vectorScore AS score,\n",
    "        {productCode: productCode, \n",
    "            graphScore:graphScore, \n",
    "            vectorScore:vectorScore} AS metadata\n",
    "    ORDER BY graphScore DESC, vectorScore DESC LIMIT 15\n",
    "    \"\"\")\n",
    "\n",
    "\n",
    "# similarity search (with personalized graph pattern)\n",
    "CUSTOMER_ID = \"daae10780ecd14990ea190a1e9917da33fe96cd8cfa5e80b67b4600171aa77e0\"\n",
    "kg_res = kg_search.similarity_search(search_prompt, \n",
    "                                     k=100, \n",
    "                                     params={'customerId': CUSTOMER_ID})\n",
    "\n",
    "# visualize as a dataframe\n",
    "vector_kg_df = pd.DataFrame([{'productCode': d.metadata['productCode'],\n",
    "               'document': d.page_content,\n",
    "               'vectorScore': d.metadata['vectorScore'],\n",
    "               'graphScore': d.metadata['graphScore']} for d in kg_res])\n",
    "vector_kg_df"
   ]
  },
  {
   "cell_type": "code",
   "execution_count": 8,
   "metadata": {
    "ExecuteTime": {
     "end_time": "2024-09-05T16:38:12.359691Z",
     "start_time": "2024-09-05T16:38:12.357417Z"
    }
   },
   "outputs": [
    {
     "data": {
      "text/html": [
       "<div>\n",
       "<style scoped>\n",
       "    .dataframe tbody tr th:only-of-type {\n",
       "        vertical-align: middle;\n",
       "    }\n",
       "\n",
       "    .dataframe tbody tr th {\n",
       "        vertical-align: top;\n",
       "    }\n",
       "\n",
       "    .dataframe thead th {\n",
       "        text-align: right;\n",
       "    }\n",
       "</style>\n",
       "<table border=\"1\" class=\"dataframe\">\n",
       "  <thead>\n",
       "    <tr style=\"text-align: right;\">\n",
       "      <th></th>\n",
       "      <th>productCode</th>\n",
       "      <th>vectorRank</th>\n",
       "      <th>graphRank</th>\n",
       "      <th>document</th>\n",
       "      <th>vectorScore</th>\n",
       "      <th>graphScore</th>\n",
       "    </tr>\n",
       "  </thead>\n",
       "  <tbody>\n",
       "    <tr>\n",
       "      <th>0</th>\n",
       "      <td>670698</td>\n",
       "      <td>95</td>\n",
       "      <td>0</td>\n",
       "      <td>##Product\\nName: Rachel HW Denim TRS\\nType: Trousers\\nGroup: Garment Lower body\\nGarment Type: T...</td>\n",
       "      <td>0.922642</td>\n",
       "      <td>22</td>\n",
       "    </tr>\n",
       "    <tr>\n",
       "      <th>1</th>\n",
       "      <td>706016</td>\n",
       "      <td>41</td>\n",
       "      <td>1</td>\n",
       "      <td>##Product\\nName: Jade HW Skinny Denim TRS\\nType: Trousers\\nGroup: Garment Lower body\\nGarment Ty...</td>\n",
       "      <td>0.926760</td>\n",
       "      <td>11</td>\n",
       "    </tr>\n",
       "    <tr>\n",
       "      <th>2</th>\n",
       "      <td>777038</td>\n",
       "      <td>47</td>\n",
       "      <td>2</td>\n",
       "      <td>##Product\\nName: Bono NW slim denim\\nType: Trousers\\nGroup: Garment Lower body\\nGarment Type: Tr...</td>\n",
       "      <td>0.926300</td>\n",
       "      <td>8</td>\n",
       "    </tr>\n",
       "    <tr>\n",
       "      <th>...</th>\n",
       "      <td>...</td>\n",
       "      <td>...</td>\n",
       "      <td>...</td>\n",
       "      <td>...</td>\n",
       "      <td>...</td>\n",
       "      <td>...</td>\n",
       "    </tr>\n",
       "    <tr>\n",
       "      <th>12</th>\n",
       "      <td>598423</td>\n",
       "      <td>1</td>\n",
       "      <td>12</td>\n",
       "      <td>##Product\\nName: Night Denim\\nType: Trousers\\nGroup: Garment Lower body\\nGarment Type: Dresses L...</td>\n",
       "      <td>0.936840</td>\n",
       "      <td>0</td>\n",
       "    </tr>\n",
       "    <tr>\n",
       "      <th>13</th>\n",
       "      <td>727804</td>\n",
       "      <td>2</td>\n",
       "      <td>13</td>\n",
       "      <td>##Product\\nName: Didi HW Skinny denim\\nType: Trousers\\nGroup: Garment Lower body\\nGarment Type: ...</td>\n",
       "      <td>0.934703</td>\n",
       "      <td>0</td>\n",
       "    </tr>\n",
       "    <tr>\n",
       "      <th>14</th>\n",
       "      <td>652924</td>\n",
       "      <td>3</td>\n",
       "      <td>14</td>\n",
       "      <td>##Product\\nName: &amp;DENIM Jeggings HW\\nType: Trousers\\nGroup: Garment Lower body\\nGarment Type: Tr...</td>\n",
       "      <td>0.934462</td>\n",
       "      <td>0</td>\n",
       "    </tr>\n",
       "  </tbody>\n",
       "</table>\n",
       "<p>15 rows × 6 columns</p>\n",
       "</div>"
      ],
      "text/plain": [
       "    productCode  vectorRank  graphRank  \\\n",
       "0        670698          95          0   \n",
       "1        706016          41          1   \n",
       "2        777038          47          2   \n",
       "..          ...         ...        ...   \n",
       "12       598423           1         12   \n",
       "13       727804           2         13   \n",
       "14       652924           3         14   \n",
       "\n",
       "                                                                                               document  \\\n",
       "0   ##Product\\nName: Rachel HW Denim TRS\\nType: Trousers\\nGroup: Garment Lower body\\nGarment Type: T...   \n",
       "1   ##Product\\nName: Jade HW Skinny Denim TRS\\nType: Trousers\\nGroup: Garment Lower body\\nGarment Ty...   \n",
       "2   ##Product\\nName: Bono NW slim denim\\nType: Trousers\\nGroup: Garment Lower body\\nGarment Type: Tr...   \n",
       "..                                                                                                  ...   \n",
       "12  ##Product\\nName: Night Denim\\nType: Trousers\\nGroup: Garment Lower body\\nGarment Type: Dresses L...   \n",
       "13  ##Product\\nName: Didi HW Skinny denim\\nType: Trousers\\nGroup: Garment Lower body\\nGarment Type: ...   \n",
       "14  ##Product\\nName: &DENIM Jeggings HW\\nType: Trousers\\nGroup: Garment Lower body\\nGarment Type: Tr...   \n",
       "\n",
       "    vectorScore  graphScore  \n",
       "0      0.922642          22  \n",
       "1      0.926760          11  \n",
       "2      0.926300           8  \n",
       "..          ...         ...  \n",
       "12     0.936840           0  \n",
       "13     0.934703           0  \n",
       "14     0.934462           0  \n",
       "\n",
       "[15 rows x 6 columns]"
      ]
     },
     "execution_count": 8,
     "metadata": {},
     "output_type": "execute_result"
    }
   ],
   "source": [
    "#merge and compare\n",
    "(vector_only_df\n",
    " .reset_index(names='vectorRank')[['productCode', 'vectorRank']]\n",
    " .merge(vector_kg_df.reset_index(names='graphRank'), \n",
    "        on='productCode', how='right')\n",
    ")"
   ]
  },
  {
   "cell_type": "markdown",
   "metadata": {
    "id": "t55maEsfdyXp"
   },
   "source": [
    "## Recommendations Chain\n",
    "\n",
    "<img src=\"images/app-flow-recommendations.png\" alt=\"summary\" width=\"1000\"/>\n"
   ]
  },
  {
   "cell_type": "code",
   "execution_count": null,
   "metadata": {
    "ExecuteTime": {
     "end_time": "2024-09-05T16:38:33.675742Z",
     "start_time": "2024-09-05T16:38:32.200669Z"
    }
   },
   "outputs": [],
   "source": [
    "from typing import Dict\n",
    "from langchain.graphs import Neo4jGraph\n",
    "import json\n",
    "\n",
    "kg = Neo4jGraph(url=NEO4J_URI, username=NEO4J_USERNAME, password=NEO4J_PASSWORD)"
   ]
  },
  {
   "cell_type": "code",
   "execution_count": null,
   "metadata": {
    "ExecuteTime": {
     "end_time": "2024-09-05T16:38:37.977985Z",
     "start_time": "2024-09-05T16:38:33.676791Z"
    }
   },
   "outputs": [],
   "source": [
    "graph_emb_df = pd.DataFrame(kg.query('''\n",
    "MATCH (p:Product)<-[:VARIANT_OF]-(a:Article)-[:FROM_DEPARTMENT]-(d)\n",
    "RETURN a.articleId AS articleId,\n",
    "    p.prodName AS productName,\n",
    "    p.productTypeName AS productTypeName,\n",
    "    d.departmentName AS departmentName,\n",
    "    d.sectionName AS sectionName,\n",
    "    p.detailDesc AS detailDesc,\n",
    "    a.graphEmbedding AS embedding\n",
    "'''))"
   ]
  },
  {
   "cell_type": "code",
   "execution_count": null,
   "metadata": {
    "ExecuteTime": {
     "end_time": "2024-09-05T16:39:10.904786Z",
     "start_time": "2024-09-05T16:38:37.979047Z"
    }
   },
   "outputs": [],
   "source": [
    "import numpy as np\n",
    "from sklearn.manifold import TSNE\n",
    "\n",
    "df = graph_emb_df.copy()\n",
    "filtered_node_df = df[df.embedding.apply(lambda x: np.count_nonzero(x) > 0)].reset_index(drop=True)\n",
    "# instantiate the TSNE model\n",
    "tsne = TSNE(n_components=2, random_state=7474, init='random', learning_rate=\"auto\")\n",
    "# Use the TSNE model to fit and output a 2-d representation\n",
    "E = tsne.fit_transform(np.stack(filtered_node_df['embedding'], axis=0))\n",
    "\n",
    "coord_df = pd.concat([filtered_node_df, pd.DataFrame(E, columns=['x', 'y'])], axis=1)"
   ]
  },
  {
   "cell_type": "code",
   "execution_count": null,
   "metadata": {
    "ExecuteTime": {
     "end_time": "2024-09-05T16:39:11.702800Z",
     "start_time": "2024-09-05T16:39:10.932393Z"
    }
   },
   "outputs": [],
   "source": [
    "import altair as alt\n",
    "import warnings\n",
    "\n",
    "warnings.filterwarnings('ignore')\n",
    "\n",
    "alt.data_transformers.disable_max_rows()\n",
    "chart = alt.Chart(coord_df.sample(n=5000, random_state=7474)).mark_circle(size=60).encode(\n",
    "    x='x',\n",
    "    y='y',\n",
    "    tooltip=['productName', 'productTypeName', 'departmentName' , 'sectionName', 'detailDesc']\n",
    ").properties(title=\"Article Embedding (2D Representation)\", width=650, height=600)\n",
    "\n",
    "chart = chart.configure_axis(titleFontSize=20)\n",
    "chart.configure_legend(labelFontSize = 20)\n",
    "chart"
   ]
  },
  {
   "cell_type": "code",
   "execution_count": null,
   "metadata": {
    "ExecuteTime": {
     "end_time": "2024-09-05T16:39:11.706357Z",
     "start_time": "2024-09-05T16:39:11.703882Z"
    }
   },
   "outputs": [],
   "source": [
    "from typing import Dict\n",
    "import json\n",
    "\n",
    "def format_res_dicts(d: Dict) -> Dict:\n",
    "    res = dict()\n",
    "    for k, v in d.items():\n",
    "        if k != \"metadata\":\n",
    "            res[k] = v\n",
    "    for k, v in d['metadata'].items():\n",
    "        if v is not None:\n",
    "            res[k] = v\n",
    "    return res\n",
    "\n",
    "vector_top_k = 100\n",
    "res_top_k = 30"
   ]
  },
  {
   "cell_type": "code",
   "execution_count": null,
   "metadata": {
    "ExecuteTime": {
     "end_time": "2024-09-05T16:39:11.985239Z",
     "start_time": "2024-09-05T16:39:11.707839Z"
    }
   },
   "outputs": [],
   "source": [
    "retrieval_query_template = \"\"\"\n",
    "MATCH(searchProduct:Product {productCode: $productCode})<-[:VARIANT_OF]-(searchArticle:Article)\n",
    "WHERE  searchArticle.graphEmbedding IS NOT NULL\n",
    "CALL db.index.vector.queryNodes('article_graph_embeddings', $vectorTopK, searchArticle.graphEmbedding) YIELD node, score\n",
    "WHERE score < 1.0\n",
    "MATCH (node)-[:VARIANT_OF]->(product)\n",
    "RETURN product.`text` AS text, \n",
    "    max(score) AS score, \n",
    "    product {.*, `text`: Null, `textEmbedding`: Null, id: Null} AS metadata\n",
    "ORDER by score DESC LIMIT $resTopK\"\"\"\n",
    "\n",
    "PRODUCT_CODE = 670698\n",
    "\n",
    "res =  kg.query(retrieval_query_template,{'productCode': PRODUCT_CODE,\n",
    "                                          'vectorTopK': vector_top_k,\n",
    "                                          'resTopK': res_top_k})\n",
    "\n",
    "#visualize as dataframe. result is list of dict\n",
    "pd.DataFrame([format_res_dicts(d) for d in res])"
   ]
  },
  {
   "cell_type": "code",
   "execution_count": null,
   "metadata": {
    "ExecuteTime": {
     "end_time": "2024-09-05T16:39:12.025135Z",
     "start_time": "2024-09-05T16:39:11.986268Z"
    },
    "id": "JI9LVEdKekeH",
    "tags": []
   },
   "outputs": [],
   "source": [
    "# Import relevant libraries\n",
    "from langchain.prompts import PromptTemplate\n",
    "from langchain_openai import ChatOpenAI\n",
    "from langchain.schema import StrOutputParser\n",
    "\n",
    "#Instantiate LLM\n",
    "llm = ChatOpenAI(temperature=0, model_name=LLM, streaming=True)"
   ]
  },
  {
   "cell_type": "code",
   "execution_count": null,
   "metadata": {
    "ExecuteTime": {
     "end_time": "2024-09-05T16:39:12.028848Z",
     "start_time": "2024-09-05T16:39:12.025809Z"
    },
    "id": "aUAROR6aekeI",
    "tags": []
   },
   "outputs": [],
   "source": [
    "prompt = PromptTemplate.from_template(\"\"\"\n",
    "You are a personal assistant named Sally for a fashion, home, and beauty company called HRM.\n",
    "Your customer, {customerName}, is currently browsing the website. \n",
    "Please write an engaging message to them recommending and summarizing products that pair well\n",
    "with their interests and the item they are currently viewing given: \n",
    "- Item they are currently viewing: {productDescription}\n",
    "- The current season / time of year: {timeofYear} \n",
    "- Recent searches: {customerInterests}\n",
    "\n",
    "Please only mention the product candidates listed in the context below. \n",
    "Do not come up with or add any new products to the list.\n",
    "The below candidates are recommended based on the shared purchase patterns of other customers in the HRM database.\n",
    "Select the best 4 to 5 product subset from the context that best match the time of year: {timeofYear} and to pair \n",
    "with the current product being viewed and recent searches. \n",
    "For example, even if scarfs are listed here, they may not be appropriate for a summer time of year so best not to include those.\n",
    "Each product comes with an http `url` field. \n",
    "Make sure to provide that http url with descriptive name text in markdown for each product. Do not alter the url.\n",
    "\n",
    "# Context:\n",
    "{context}\n",
    "\"\"\")\n",
    "\n",
    "vector_top_k = 100\n",
    "res_top_k = 30\n",
    "\n",
    "def retriever(product_code):\n",
    "    params = {'productCode': product_code,\n",
    "              'vectorTopK': vector_top_k,\n",
    "              'resTopK': res_top_k}\n",
    "    query_results = kg.query(retrieval_query_template, params=params)\n",
    "    res = json.dumps([format_res_dicts(d) for d in query_results], indent=1)\n",
    "    return res"
   ]
  },
  {
   "cell_type": "code",
   "execution_count": null,
   "metadata": {
    "ExecuteTime": {
     "end_time": "2024-09-05T16:39:12.032692Z",
     "start_time": "2024-09-05T16:39:12.029537Z"
    },
    "id": "nUpih07QdyXr",
    "tags": []
   },
   "outputs": [],
   "source": [
    "from langchain_core.runnables import RunnableParallel\n",
    "\n",
    "chain = (\n",
    "        RunnableParallel(\n",
    "            {'context': (lambda x: x['product_code']) | RunnableLambda(retriever),\n",
    "             'customerName': (lambda x: x['customer_name']),\n",
    "             'productDescription': (lambda x: x['product_description']),\n",
    "             'customerInterests': (lambda x: x['customer_interests']),\n",
    "             'timeofYear': (lambda x: x['time_of_year']),\n",
    "             })\n",
    "        | prompt\n",
    "        | llm\n",
    "        | StrOutputParser())"
   ]
  },
  {
   "cell_type": "code",
   "execution_count": null,
   "metadata": {
    "ExecuteTime": {
     "end_time": "2024-09-05T16:39:16.881360Z",
     "start_time": "2024-09-05T16:39:12.033596Z"
    }
   },
   "outputs": [],
   "source": [
    "print(chain.invoke({'product_code': PRODUCT_CODE,\n",
    "                    'customer_interests':search_prompt,\n",
    "                    'product_description':'',\n",
    "                    'customer_name':'Alex Smith',\n",
    "                    'time_of_year':'July, 2024'}))"
   ]
  },
  {
   "cell_type": "code",
   "execution_count": null,
   "metadata": {},
   "outputs": [],
   "source": []
  }
 ],
 "metadata": {
  "colab": {
   "provenance": []
  },
  "kernelspec": {
   "display_name": "Python 3 (ipykernel)",
   "language": "python",
   "name": "python3"
  },
  "language_info": {
   "codemirror_mode": {
    "name": "ipython",
    "version": 3
   },
   "file_extension": ".py",
   "mimetype": "text/x-python",
   "name": "python",
   "nbconvert_exporter": "python",
   "pygments_lexer": "ipython3",
   "version": "3.10.13"
  },
  "widgets": {
   "application/vnd.jupyter.widget-state+json": {
    "state": {
     "0543f7cd88cb4692b4dd4e9ce657d34f": {
      "model_module": "@jupyter-widgets/base",
      "model_module_version": "2.0.0",
      "model_name": "LayoutModel",
      "state": {
       "_model_module": "@jupyter-widgets/base",
       "_model_module_version": "2.0.0",
       "_model_name": "LayoutModel",
       "_view_count": null,
       "_view_module": "@jupyter-widgets/base",
       "_view_module_version": "2.0.0",
       "_view_name": "LayoutView",
       "align_content": null,
       "align_items": null,
       "align_self": null,
       "border_bottom": null,
       "border_left": null,
       "border_right": null,
       "border_top": null,
       "bottom": null,
       "display": null,
       "flex": null,
       "flex_flow": null,
       "grid_area": null,
       "grid_auto_columns": null,
       "grid_auto_flow": null,
       "grid_auto_rows": null,
       "grid_column": null,
       "grid_gap": null,
       "grid_row": null,
       "grid_template_areas": null,
       "grid_template_columns": null,
       "grid_template_rows": null,
       "height": null,
       "justify_content": null,
       "justify_items": null,
       "left": null,
       "margin": null,
       "max_height": null,
       "max_width": null,
       "min_height": null,
       "min_width": null,
       "object_fit": null,
       "object_position": null,
       "order": null,
       "overflow": null,
       "padding": null,
       "right": null,
       "top": null,
       "visibility": null,
       "width": null
      }
     },
     "0f3b176a7a344461b2569370242f6cab": {
      "model_module": "@jupyter-widgets/controls",
      "model_module_version": "2.0.0",
      "model_name": "ProgressStyleModel",
      "state": {
       "_model_module": "@jupyter-widgets/controls",
       "_model_module_version": "2.0.0",
       "_model_name": "ProgressStyleModel",
       "_view_count": null,
       "_view_module": "@jupyter-widgets/base",
       "_view_module_version": "2.0.0",
       "_view_name": "StyleView",
       "bar_color": null,
       "description_width": ""
      }
     },
     "355e006142fe4c65934578baa87418ff": {
      "model_module": "@jupyter-widgets/controls",
      "model_module_version": "2.0.0",
      "model_name": "HTMLModel",
      "state": {
       "_dom_classes": [],
       "_model_module": "@jupyter-widgets/controls",
       "_model_module_version": "2.0.0",
       "_model_name": "HTMLModel",
       "_view_count": null,
       "_view_module": "@jupyter-widgets/controls",
       "_view_module_version": "2.0.0",
       "_view_name": "HTMLView",
       "description": "",
       "description_allow_html": false,
       "layout": "IPY_MODEL_9b4be87a4ad74edba2ffaa3f7bf7458d",
       "placeholder": "​",
       "style": "IPY_MODEL_662ddb02bc904eb0b1828c083b479bde",
       "tabbable": null,
       "tooltip": null,
       "value": "K-Nearest Neighbours: 100%"
      }
     },
     "4d2d11fd160e40bf9d28b0d88471dd97": {
      "model_module": "@jupyter-widgets/base",
      "model_module_version": "2.0.0",
      "model_name": "LayoutModel",
      "state": {
       "_model_module": "@jupyter-widgets/base",
       "_model_module_version": "2.0.0",
       "_model_name": "LayoutModel",
       "_view_count": null,
       "_view_module": "@jupyter-widgets/base",
       "_view_module_version": "2.0.0",
       "_view_name": "LayoutView",
       "align_content": null,
       "align_items": null,
       "align_self": null,
       "border_bottom": null,
       "border_left": null,
       "border_right": null,
       "border_top": null,
       "bottom": null,
       "display": null,
       "flex": null,
       "flex_flow": null,
       "grid_area": null,
       "grid_auto_columns": null,
       "grid_auto_flow": null,
       "grid_auto_rows": null,
       "grid_column": null,
       "grid_gap": null,
       "grid_row": null,
       "grid_template_areas": null,
       "grid_template_columns": null,
       "grid_template_rows": null,
       "height": null,
       "justify_content": null,
       "justify_items": null,
       "left": null,
       "margin": null,
       "max_height": null,
       "max_width": null,
       "min_height": null,
       "min_width": null,
       "object_fit": null,
       "object_position": null,
       "order": null,
       "overflow": null,
       "padding": null,
       "right": null,
       "top": null,
       "visibility": null,
       "width": null
      }
     },
     "6472a981aa5d47a1b92ca65ceb33533f": {
      "model_module": "@jupyter-widgets/controls",
      "model_module_version": "2.0.0",
      "model_name": "FloatProgressModel",
      "state": {
       "_dom_classes": [],
       "_model_module": "@jupyter-widgets/controls",
       "_model_module_version": "2.0.0",
       "_model_name": "FloatProgressModel",
       "_view_count": null,
       "_view_module": "@jupyter-widgets/controls",
       "_view_module_version": "2.0.0",
       "_view_name": "ProgressView",
       "bar_style": "success",
       "description": "",
       "description_allow_html": false,
       "layout": "IPY_MODEL_0543f7cd88cb4692b4dd4e9ce657d34f",
       "max": 100,
       "min": 0,
       "orientation": "horizontal",
       "style": "IPY_MODEL_0f3b176a7a344461b2569370242f6cab",
       "tabbable": null,
       "tooltip": null,
       "value": 100
      }
     },
     "662ddb02bc904eb0b1828c083b479bde": {
      "model_module": "@jupyter-widgets/controls",
      "model_module_version": "2.0.0",
      "model_name": "HTMLStyleModel",
      "state": {
       "_model_module": "@jupyter-widgets/controls",
       "_model_module_version": "2.0.0",
       "_model_name": "HTMLStyleModel",
       "_view_count": null,
       "_view_module": "@jupyter-widgets/base",
       "_view_module_version": "2.0.0",
       "_view_name": "StyleView",
       "background": null,
       "description_width": "",
       "font_size": null,
       "text_color": null
      }
     },
     "76de895433654c89af337fca5ec90636": {
      "model_module": "@jupyter-widgets/base",
      "model_module_version": "2.0.0",
      "model_name": "LayoutModel",
      "state": {
       "_model_module": "@jupyter-widgets/base",
       "_model_module_version": "2.0.0",
       "_model_name": "LayoutModel",
       "_view_count": null,
       "_view_module": "@jupyter-widgets/base",
       "_view_module_version": "2.0.0",
       "_view_name": "LayoutView",
       "align_content": null,
       "align_items": null,
       "align_self": null,
       "border_bottom": null,
       "border_left": null,
       "border_right": null,
       "border_top": null,
       "bottom": null,
       "display": null,
       "flex": null,
       "flex_flow": null,
       "grid_area": null,
       "grid_auto_columns": null,
       "grid_auto_flow": null,
       "grid_auto_rows": null,
       "grid_column": null,
       "grid_gap": null,
       "grid_row": null,
       "grid_template_areas": null,
       "grid_template_columns": null,
       "grid_template_rows": null,
       "height": null,
       "justify_content": null,
       "justify_items": null,
       "left": null,
       "margin": null,
       "max_height": null,
       "max_width": null,
       "min_height": null,
       "min_width": null,
       "object_fit": null,
       "object_position": null,
       "order": null,
       "overflow": null,
       "padding": null,
       "right": null,
       "top": null,
       "visibility": null,
       "width": null
      }
     },
     "8ffd59200b6848c48a2ff36e1cf43de9": {
      "model_module": "@jupyter-widgets/controls",
      "model_module_version": "2.0.0",
      "model_name": "HBoxModel",
      "state": {
       "_dom_classes": [],
       "_model_module": "@jupyter-widgets/controls",
       "_model_module_version": "2.0.0",
       "_model_name": "HBoxModel",
       "_view_count": null,
       "_view_module": "@jupyter-widgets/controls",
       "_view_module_version": "2.0.0",
       "_view_name": "HBoxView",
       "box_style": "",
       "children": [
        "IPY_MODEL_355e006142fe4c65934578baa87418ff",
        "IPY_MODEL_6472a981aa5d47a1b92ca65ceb33533f",
        "IPY_MODEL_b43e26ae7f754e47996eb36d213656c8"
       ],
       "layout": "IPY_MODEL_76de895433654c89af337fca5ec90636",
       "tabbable": null,
       "tooltip": null
      }
     },
     "9b4be87a4ad74edba2ffaa3f7bf7458d": {
      "model_module": "@jupyter-widgets/base",
      "model_module_version": "2.0.0",
      "model_name": "LayoutModel",
      "state": {
       "_model_module": "@jupyter-widgets/base",
       "_model_module_version": "2.0.0",
       "_model_name": "LayoutModel",
       "_view_count": null,
       "_view_module": "@jupyter-widgets/base",
       "_view_module_version": "2.0.0",
       "_view_name": "LayoutView",
       "align_content": null,
       "align_items": null,
       "align_self": null,
       "border_bottom": null,
       "border_left": null,
       "border_right": null,
       "border_top": null,
       "bottom": null,
       "display": null,
       "flex": null,
       "flex_flow": null,
       "grid_area": null,
       "grid_auto_columns": null,
       "grid_auto_flow": null,
       "grid_auto_rows": null,
       "grid_column": null,
       "grid_gap": null,
       "grid_row": null,
       "grid_template_areas": null,
       "grid_template_columns": null,
       "grid_template_rows": null,
       "height": null,
       "justify_content": null,
       "justify_items": null,
       "left": null,
       "margin": null,
       "max_height": null,
       "max_width": null,
       "min_height": null,
       "min_width": null,
       "object_fit": null,
       "object_position": null,
       "order": null,
       "overflow": null,
       "padding": null,
       "right": null,
       "top": null,
       "visibility": null,
       "width": null
      }
     },
     "b43e26ae7f754e47996eb36d213656c8": {
      "model_module": "@jupyter-widgets/controls",
      "model_module_version": "2.0.0",
      "model_name": "HTMLModel",
      "state": {
       "_dom_classes": [],
       "_model_module": "@jupyter-widgets/controls",
       "_model_module_version": "2.0.0",
       "_model_name": "HTMLModel",
       "_view_count": null,
       "_view_module": "@jupyter-widgets/controls",
       "_view_module_version": "2.0.0",
       "_view_name": "HTMLView",
       "description": "",
       "description_allow_html": false,
       "layout": "IPY_MODEL_4d2d11fd160e40bf9d28b0d88471dd97",
       "placeholder": "​",
       "style": "IPY_MODEL_f156091765414919bd9ab8030ff14557",
       "tabbable": null,
       "tooltip": null,
       "value": " 100.0/100 [00:07&lt;00:00, 40.16%/s]"
      }
     },
     "f156091765414919bd9ab8030ff14557": {
      "model_module": "@jupyter-widgets/controls",
      "model_module_version": "2.0.0",
      "model_name": "HTMLStyleModel",
      "state": {
       "_model_module": "@jupyter-widgets/controls",
       "_model_module_version": "2.0.0",
       "_model_name": "HTMLStyleModel",
       "_view_count": null,
       "_view_module": "@jupyter-widgets/base",
       "_view_module_version": "2.0.0",
       "_view_name": "StyleView",
       "background": null,
       "description_width": "",
       "font_size": null,
       "text_color": null
      }
     }
    },
    "version_major": 2,
    "version_minor": 0
   }
  }
 },
 "nbformat": 4,
 "nbformat_minor": 4
}
