{
 "cells": [
  {
   "cell_type": "markdown",
   "source": [
    "# Loose Entity Extraction"
   ],
   "metadata": {
    "collapsed": false
   }
  },
  {
   "cell_type": "markdown",
   "source": [
    "## Setup"
   ],
   "metadata": {
    "collapsed": false
   }
  },
  {
   "cell_type": "code",
   "execution_count": 1,
   "outputs": [
    {
     "name": "stdout",
     "output_type": "stream",
     "text": [
      "Requirement already satisfied: python-dotenv in /Users/zachblumenfeld/interpeters/graphrag-support-example/lib/python3.9/site-packages (1.0.1)\r\n",
      "Requirement already satisfied: pypdf in /Users/zachblumenfeld/interpeters/graphrag-support-example/lib/python3.9/site-packages (4.2.0)\r\n",
      "Requirement already satisfied: typing_extensions>=4.0 in /Users/zachblumenfeld/interpeters/graphrag-support-example/lib/python3.9/site-packages (from pypdf) (4.11.0)\r\n",
      "Note: you may need to restart the kernel to use updated packages.\n"
     ]
    }
   ],
   "source": [
    "%pip install python-dotenv pypdf"
   ],
   "metadata": {
    "collapsed": false
   }
  },
  {
   "cell_type": "code",
   "execution_count": 2,
   "outputs": [],
   "source": [
    "from dotenv import load_dotenv\n",
    "import os\n",
    "load_dotenv('exp.env', override=True)\n",
    "\n",
    "# Neo4j\n",
    "NEO4J_URI = os.getenv('NEO4J_URI')\n",
    "NEO4J_USERNAME = os.getenv('NEO4J_USERNAME')\n",
    "NEO4J_PASSWORD = os.getenv('NEO4J_PASSWORD')\n",
    "\n",
    "#OPENAI\n",
    "OPENAI_API_KEY = os.getenv('OPENAI_API_KEY')"
   ],
   "metadata": {
    "collapsed": false
   }
  },
  {
   "cell_type": "markdown",
   "source": [
    "## Experimentation"
   ],
   "metadata": {
    "collapsed": false
   }
  },
  {
   "cell_type": "code",
   "execution_count": 3,
   "outputs": [],
   "source": [
    "from langchain_community.document_loaders import PyPDFLoader\n",
    "\n",
    "loader = PyPDFLoader(\"2020-Ford-F250-F350-F450-F550-F600-Owners-Manual-version-1._om_EN_10_2019.pdf\")\n",
    "pages = loader.load_and_split()"
   ],
   "metadata": {
    "collapsed": false
   }
  },
  {
   "cell_type": "code",
   "execution_count": 4,
   "outputs": [
    {
     "data": {
      "text/plain": "648"
     },
     "execution_count": 4,
     "metadata": {},
     "output_type": "execute_result"
    }
   ],
   "source": [
    "len(pages)"
   ],
   "metadata": {
    "collapsed": false
   }
  },
  {
   "cell_type": "code",
   "execution_count": 5,
   "outputs": [
    {
     "data": {
      "text/plain": "Document(page_content='Powertrain Malfunction/Reduced\\nPower/Electronic Throttle Control\\nIlluminates when a powertrain\\nor a 4WD fault has been\\ndetected. Contact your\\nauthorized dealer as soon as possible.\\nService Engine Soon\\nIf it illuminates when the engine\\nis running this indicates a\\nmalfunction.  The On Board\\nDiagnostics system has detected a\\nmalfunction of the vehicle emission control\\nsystem.\\nIf it flashes, engine misfire may be\\noccurring.  Increased exhaust gas\\ntemperatures could damage the catalytic\\nconverter or other vehicle components.\\nDrive in a moderate fashion (avoid heavy\\nacceleration and deceleration) and have\\nyour vehicle immediately serviced.\\nIt illuminates when you switch the ignition\\non prior to engine start to check the bulb\\nand to indicate whether your vehicle is\\nready for Inspection and Maintenance\\n(I/M) testing.\\nNormally, it illuminates until the engine is\\ncranked and automatically turns off if no\\nmalfunctions are present. However, if after\\n15 seconds it flashes eight times, this\\nindicates that your vehicle is not ready for\\nInspection and Maintenance (I/M) testing.\\nSee Emission Law  (page 193).\\nStability Control\\nE138639\\nIlluminates when the system is\\nactive. If it remains illuminated\\nor does not illuminate when you\\nswitch the ignition on, this indicates a\\nmalfunction. During a malfunction the\\nsystem will switch off. Have the system\\nchecked by your authorized dealer\\nimmediately.  See Using Stability\\nControl  (page 228 ).Stability Control Off\\nE130458\\nIlluminates when you switch the\\nsystem off.  It will go out when\\nyou switch the system back on\\nor when you switch the ignition off.\\nSee Using Stability Control  (page 228 ).\\nTransmission Tow/Haul  (If Equipped)\\nE246592\\nIlluminates when the tow/haul\\nfeature has been activated. If the\\nlight flashes steadily, have the\\nsystem serviced immediately, damage to\\nthe transmission could occur.\\nWait To Start  (If Equipped)\\nIlluminates when you switch the\\nignition on as part of the\\npre-start system. Wait until the\\nwait to start indicator turns off before\\nattempting to start vehicle.  See Starting\\na Diesel Engine  (page 176).\\nWater In Fuel  (If Equipped)\\nWARNING: Do not drain the\\nwater-in-fuel separator while the engine\\nis running. Failure to follow this warning\\nmay result in fire, serious injury, death or\\nproperty damage.\\nDuring refueling, it is possible for\\nyou to pump\\nwater-contaminated diesel fuel\\ninto your fuel tank. Your vehicle ’s fuel\\nsystem is equipped with a fuel filter and\\nwater separator to remove water from the\\nfuel. The water in fuel indicator lights when\\nthe fuel and water separator has a\\nsignificant quantity of water in it and\\nrequires immediate draining.\\n110\\nSuper Duty (TFE) Canada/United States of America, enUSA, Edition date: 201909, First-PrintingInstrument Cluster', metadata={'source': '2020-Ford-F250-F350-F450-F550-F600-Owners-Manual-version-1._om_EN_10_2019.pdf', 'page': 112})"
     },
     "execution_count": 5,
     "metadata": {},
     "output_type": "execute_result"
    }
   ],
   "source": [
    "pages[112]"
   ],
   "metadata": {
    "collapsed": false
   }
  },
  {
   "cell_type": "code",
   "execution_count": 7,
   "outputs": [],
   "source": [
    "from langchain_core.prompts import ChatPromptTemplate\n",
    "\n",
    "extract_prompt = ChatPromptTemplate.from_messages(\n",
    "    [\n",
    "        (\n",
    "            \"system\",\n",
    "            \"You are an expert car mechanic that needs to extract relevant facts from the below \"\n",
    "            \"text from the Ford Super Duty owners manual. \"\n",
    "            \"The extracted facts will be loaded into a knowledge base for helping non-expert owners \"\n",
    "            \"answer critical questions about their vehicle and provide them expert guidance. \"\n",
    "            \"The facts should be extracted in the form of a a knowledge triple: subject, predicate object.\"\n",
    "            \"each subject, predicate, and object should only be 1 to a few words. Avoid sentences and conjunctions, \"\n",
    "            \"instead you can create more facts. \"\n",
    "            \"Avoid object containing a preposition or adverb, instead create additional facts. \"\n",
    "            \"Given that this is a source of truth, please ensure the facts come only from the provided text, \"\n",
    "            \"Do not create fictitious data or impute missing values.\"\n",
    "            \"Only include facts that are clear, non-ambiguous, and relevant to the research\"\n",
    "        ),\n",
    "        (\"human\", \"{text}\"),\n",
    "    ]\n",
    ")"
   ],
   "metadata": {
    "collapsed": false
   }
  },
  {
   "cell_type": "code",
   "execution_count": 8,
   "outputs": [],
   "source": [
    "import datetime\n",
    "from typing import List\n",
    "from langchain_core.pydantic_v1 import BaseModel, Field\n",
    "\n",
    "class Fact(BaseModel):\n",
    "    \"\"\"A useful fact\"\"\"\n",
    "    subject: str = Field(description=\"Subject: Entity being described\")\n",
    "    predicate: str = Field(description=\"Predicate: The property or action of the subject that is being described\")\n",
    "    object: str = Field(description=\"Object: The value of the property or action being described\")\n",
    "\n",
    "class Facts(BaseModel):\n",
    "    \"\"\"A series of useful facts\"\"\"\n",
    "    facts: List[Fact]\n"
   ],
   "metadata": {
    "collapsed": false
   }
  },
  {
   "cell_type": "code",
   "execution_count": 9,
   "outputs": [],
   "source": [
    "from langchain_openai import ChatOpenAI\n",
    "\n",
    "llm_extractor=ChatOpenAI(temperature=0, model_name=\"gpt-4-turbo\")"
   ],
   "metadata": {
    "collapsed": false
   }
  },
  {
   "cell_type": "code",
   "execution_count": 10,
   "outputs": [],
   "source": [
    "chain_extractor = extract_prompt | llm_extractor.with_structured_output(Facts)"
   ],
   "metadata": {
    "collapsed": false
   }
  },
  {
   "cell_type": "code",
   "execution_count": 11,
   "outputs": [],
   "source": [
    "facts = chain_extractor.invoke(pages[112].page_content)"
   ],
   "metadata": {
    "collapsed": false
   }
  },
  {
   "cell_type": "code",
   "execution_count": 12,
   "outputs": [
    {
     "name": "stdout",
     "output_type": "stream",
     "text": [
      "(Stability Control Indicator) - [action required] -> (check system)\n",
      "(Transmission Tow/Haul Indicator) - [illuminates] -> (tow/haul activated)\n",
      "(Service Engine Soon Indicator) - [illuminates] -> (engine malfunction)\n",
      "(Service Engine Soon Indicator) - [action required] -> (service vehicle)\n",
      "(Service Engine Soon Indicator) - [flashes] -> (not ready for I/M testing)\n",
      "(Transmission Tow/Haul Indicator) - [flashes] -> (system service required)\n",
      "(Stability Control Indicator) - [illuminates] -> (system malfunction)\n",
      "(Stability Control Off Indicator) - [illuminates] -> (system off)\n",
      "(Powertrain Malfunction Indicator) - [illuminates] -> (4WD fault detected)\n",
      "(Powertrain Malfunction Indicator) - [illuminates] -> (powertrain fault detected)\n",
      "(Service Engine Soon Indicator) - [action required] -> (drive moderately)\n",
      "(Service Engine Soon Indicator) - [illuminates] -> (ignition on)\n",
      "(Powertrain Malfunction Indicator) - [action required] -> (contact dealer)\n",
      "(Service Engine Soon Indicator) - [illuminates] -> (ready for I/M testing)\n",
      "(Service Engine Soon Indicator) - [flashes] -> (increased exhaust temperatures)\n",
      "(Water In Fuel Indicator) - [action required] -> (drain separator)\n",
      "(Water In Fuel Indicator) - [illuminates] -> (water in fuel detected)\n",
      "(Service Engine Soon Indicator) - [flashes] -> (engine misfire)\n",
      "(Wait To Start Indicator) - [illuminates] -> (pre-start system)\n",
      "(Stability Control Indicator) - [illuminates] -> (system active)\n"
     ]
    }
   ],
   "source": [
    "def stringify_facts(f:Facts):\n",
    "    res = set()\n",
    "    for fact in f.facts:\n",
    "        res.add(f'({fact.subject}) - [{fact.predicate}] -> ({fact.object})')\n",
    "    return res\n",
    "\n",
    "for s in stringify_facts(facts):\n",
    "    print(s)"
   ],
   "metadata": {
    "collapsed": false
   }
  },
  {
   "cell_type": "code",
   "execution_count": 13,
   "outputs": [],
   "source": [
    "relevance_prompt = ChatPromptTemplate.from_messages(\n",
    "    [\n",
    "\n",
    "        (\n",
    "            \"system\",\n",
    "            \"You are an expert car mechanic that needs to validate the relevance and clarity of extracted facts from the \"\n",
    "            \"Ford Super Duty Owners manual. \"\n",
    "            \"The extracted facts will be loaded into a knowledge base for helping non-expert owners \"\n",
    "            \"answer critical questions about their vehicle and provide them expert guidance. \"\n",
    "            \"To be relevant, the fact should make sense, be non-ambiguous, and relevant to owners asking \"\n",
    "            \"questions about their vehicle. \"\n",
    "            \"In your response only return relevant facts according to this criteria.\"\n",
    "            \"Do not create fictitious data or impute missing values. \"\n",
    "            \"Do not alter any of the facts. \"\n",
    "            \"Only include facts from the ones provided.\"\n",
    "        ),\n",
    "        (\"human\", \"{text}\"),\n",
    "    ]\n",
    ")"
   ],
   "metadata": {
    "collapsed": false
   }
  },
  {
   "cell_type": "code",
   "execution_count": 14,
   "outputs": [],
   "source": [
    "chain_filterer = (relevance_prompt | llm_extractor.with_structured_output(Facts)).with_types(input_type=Facts, output_type=Facts)"
   ],
   "metadata": {
    "collapsed": false
   }
  },
  {
   "cell_type": "code",
   "execution_count": 15,
   "outputs": [],
   "source": [
    "filtered_facts = chain_filterer.invoke(facts)"
   ],
   "metadata": {
    "collapsed": false
   }
  },
  {
   "cell_type": "code",
   "execution_count": 16,
   "outputs": [
    {
     "name": "stdout",
     "output_type": "stream",
     "text": [
      "Extracted Facts: 20\n",
      "Relevant Facts: 20\n"
     ]
    }
   ],
   "source": [
    "print(f'Extracted Facts: {len(facts.facts)}')\n",
    "print(f'Relevant Facts: {len(filtered_facts.facts)}')"
   ],
   "metadata": {
    "collapsed": false
   }
  },
  {
   "cell_type": "code",
   "execution_count": 17,
   "outputs": [
    {
     "name": "stdout",
     "output_type": "stream",
     "text": [
      "Dropped facts:\n"
     ]
    }
   ],
   "source": [
    "facts_set = stringify_facts(facts)\n",
    "filtered_facts_set = stringify_facts(filtered_facts)\n",
    "print('Dropped facts:')\n",
    "for fact in facts_set.difference(filtered_facts_set):\n",
    "    print(fact)"
   ],
   "metadata": {
    "collapsed": false
   }
  },
  {
   "cell_type": "markdown",
   "source": [
    "## Create Classes and Functions for Pipeline"
   ],
   "metadata": {
    "collapsed": false
   }
  },
  {
   "cell_type": "code",
   "execution_count": 18,
   "outputs": [],
   "source": [
    "class Chunk(BaseModel):\n",
    "    \"\"\"A chunk of a source from which facts were extracted\"\"\"\n",
    "    id:str\n",
    "    sourceId:str\n",
    "    seqId:int\n",
    "    text:str\n",
    "\n",
    "\n",
    "class Source(BaseModel):\n",
    "    \"\"\"A source of facts\"\"\"\n",
    "    id:str\n",
    "    name:str\n",
    "    type:str\n",
    "    url:str\n",
    "\n",
    "class CitedFact(BaseModel):\n",
    "    \"\"\"A useful fact with a source chunk id\"\"\"\n",
    "    subject: str\n",
    "    predicate: str\n",
    "    object: str\n",
    "    chunkId: str\n",
    "    def __init__(self, fact: Fact, chunk:Chunk):\n",
    "        super().__init__(subject = fact.subject.lower(),\n",
    "                         predicate = fact.predicate.lower(),\n",
    "                         object = fact.object.lower(),\n",
    "                         chunkId = chunk.id)\n"
   ],
   "metadata": {
    "collapsed": false
   }
  },
  {
   "cell_type": "code",
   "execution_count": 19,
   "outputs": [],
   "source": [
    "import uuid\n",
    "from typing import Tuple\n",
    "from langchain_core.documents import Document\n",
    "\n",
    "def insert_sources(source:Source, chunks: List[Chunk]):\n",
    "    #source node\n",
    "    graph.query('''\n",
    "    MERGE(s:Source {id:$id})\n",
    "    SET s.name = $name, s.type=$type, s.url=$url\n",
    "    ''', params=source.dict())\n",
    "\n",
    "    #chunk nodes and rels to source\n",
    "    graph.query('''\n",
    "    UNWIND $chunks AS chunk\n",
    "    MATCH(s:Source {id:chunk.sourceId})\n",
    "    MERGE(c:Chunk {id:chunk.id})\n",
    "    SET c.seqId=chunk.seqId, c.text=chunk.text\n",
    "    MERGE (c)-[:PART_OF]->(s)\n",
    "    ''', params={'chunks': [chunk.dict() for chunk in chunks]})\n",
    "\n",
    "merge_entity_query = \"\"\"\n",
    "    UNWIND $entities AS entity\n",
    "    MATCH(c:Chunk {id:entity.chunkId})\n",
    "    MERGE(e:Entity {id:entity.id})\n",
    "    MERGE (c)-[:HAS_ENTITY]->(e)\n",
    "\"\"\"\n",
    "\n",
    "def insert_facts(facts: List[CitedFact]):\n",
    "    #insert subjects\n",
    "    subjects = [{'id':fact.subject, 'chunkId':fact.chunkId} for fact in facts]\n",
    "    graph.query(merge_entity_query, params={'entities': subjects})\n",
    "\n",
    "    #insert objects\n",
    "    objects = [{'id':fact.object, 'chunkId':fact.chunkId} for fact in facts]\n",
    "    graph.query(merge_entity_query, params={'entities': objects})\n",
    "\n",
    "    #insert predicates\n",
    "    graph.query(\"\"\"\n",
    "    UNWIND $facts AS fact\n",
    "    MATCH(s:Entity {id:fact.subject})\n",
    "    MATCH(o:Entity {id:fact.object})\n",
    "    MERGE (s)-[r:RELATES_TO {id:fact.predicate}]->(o)\n",
    "    ON CREATE SET r.chunkId = fact.chunkId\n",
    "    \"\"\", params={'facts': [fact.dict() for fact in facts]})\n",
    "\n",
    "\n",
    "def create_sources(docs: List[Document], name: str, doc_type: str, url: str) -> Tuple[Source, List[Chunk]]:\n",
    "    source_uuid = uuid.uuid3(uuid.NAMESPACE_URL, url)\n",
    "    source = Source(id=str(source_uuid), name=name, type=doc_type, url=url)\n",
    "    chunks = []\n",
    "    for i in range(len(docs)):\n",
    "        chunks.append(Chunk(\n",
    "            id=str(uuid.uuid3(source_uuid, docs[i].page_content)),\n",
    "            sourceId=source.id, seqId=i, text=docs[i].page_content))\n",
    "    return source, chunks\n",
    "\n",
    "def filter_facts(unfiltered_facts:Facts) -> Facts:\n",
    "    facts = chain_filterer.invoke(unfiltered_facts)\n",
    "\n",
    "    unfiltered_facts_len = len(unfiltered_facts.facts)\n",
    "    facts_len = len(facts.facts)\n",
    "\n",
    "    print(f'\\tExtracted Facts: {unfiltered_facts_len}')\n",
    "    print(f'\\tRelevant Facts: {facts_len}')\n",
    "\n",
    "    if unfiltered_facts_len != facts_len:\n",
    "        unfiltered_facts_set = stringify_facts(unfiltered_facts)\n",
    "        facts_set = stringify_facts(facts)\n",
    "        print('\\tDropped facts:')\n",
    "        for dropped_fact in unfiltered_facts_set.difference(facts_set):\n",
    "            print(f'\\t\\t * {dropped_fact}')\n",
    "    return facts\n",
    "\n",
    "def extract_facts(chunk: Chunk, filter:bool=True) -> List[CitedFact]:\n",
    "    facts = chain_extractor.invoke(chunk.text)\n",
    "    if filter:\n",
    "        facts = filter_facts(facts)\n",
    "    return [CitedFact(fact, chunk) for fact in facts.facts]"
   ],
   "metadata": {
    "collapsed": false
   }
  },
  {
   "cell_type": "markdown",
   "source": [
    "## Run Pipeline"
   ],
   "metadata": {
    "collapsed": false
   }
  },
  {
   "cell_type": "code",
   "execution_count": 20,
   "outputs": [
    {
     "data": {
      "text/plain": "[]"
     },
     "execution_count": 20,
     "metadata": {},
     "output_type": "execute_result"
    }
   ],
   "source": [
    "from langchain_community.graphs.neo4j_graph import Neo4jGraph\n",
    "\n",
    "graph = Neo4jGraph(NEO4J_URI, NEO4J_USERNAME, NEO4J_PASSWORD)\n",
    "graph.query('CREATE CONSTRAINT entityId IF NOT EXISTS FOR (n:Entity) REQUIRE (n.id) IS UNIQUE;')\n",
    "graph.query('CREATE CONSTRAINT chunkId IF NOT EXISTS FOR (n:Chunk) REQUIRE (n.id) IS UNIQUE;')\n",
    "graph.query('CREATE CONSTRAINT sourceId IF NOT EXISTS FOR (n:Source) REQUIRE (n.id) IS UNIQUE;')\n"
   ],
   "metadata": {
    "collapsed": false
   }
  },
  {
   "cell_type": "code",
   "execution_count": 21,
   "outputs": [],
   "source": [
    "###"
   ],
   "metadata": {
    "collapsed": false
   }
  },
  {
   "cell_type": "code",
   "execution_count": 22,
   "outputs": [
    {
     "name": "stdout",
     "output_type": "stream",
     "text": [
      "formatting and ingesting sources\n",
      "extracting facts\n"
     ]
    },
    {
     "name": "stderr",
     "output_type": "stream",
     "text": [
      "  0%|          | 0/200 [00:00<?, ?it/s]"
     ]
    },
    {
     "name": "stdout",
     "output_type": "stream",
     "text": [
      "\tExtracted Facts: 4\n",
      "\tRelevant Facts: 3\n",
      "\tDropped facts:\n",
      "\t\t * (LC3J 19A321 AA) - [is a model] -> (2020 SUPER DUTY Owner’s Manual)\n"
     ]
    },
    {
     "name": "stderr",
     "output_type": "stream",
     "text": [
      "  0%|          | 1/200 [00:19<1:04:27, 19.43s/it]"
     ]
    },
    {
     "name": "stdout",
     "output_type": "stream",
     "text": [
      "\tExtracted Facts: 4\n",
      "\tRelevant Facts: 3\n",
      "\tDropped facts:\n",
      "\t\t * (LC3J 19A321 AA) - [is model number] -> (2020 SUPER DUTY Owner’s Manual)\n",
      "\tExtracted Facts: 17\n",
      "\tRelevant Facts: 13\n",
      "\tDropped facts:\n",
      "\t\t * (Publication) - [reproduction restriction] -> (written permission required)\n",
      "\t\t * (Part Number) - [value] -> (201909 20190911200549)\n",
      "\t\t * (Publication) - [correctness timing] -> (time of print)\n",
      "\t\t * (Ford Motor Company) - [copyright year] -> (2019)\n"
     ]
    },
    {
     "name": "stderr",
     "output_type": "stream",
     "text": [
      "  1%|          | 2/200 [00:48<1:23:01, 25.16s/it]"
     ]
    },
    {
     "name": "stdout",
     "output_type": "stream",
     "text": [
      "\tExtracted Facts: 17\n",
      "\tRelevant Facts: 13\n",
      "\tDropped facts:\n",
      "\t\t * (Publication) - [correctness status] -> (correct at print time)\n",
      "\t\t * (Publication) - [reproduction permission] -> (written permission required)\n",
      "\t\t * (Part Number) - [value] -> (201909 20190911200549)\n",
      "\t\t * (Ford Motor Company) - [copyright year] -> (2019)\n",
      "\tExtracted Facts: 4\n",
      "\tRelevant Facts: 4\n"
     ]
    },
    {
     "name": "stderr",
     "output_type": "stream",
     "text": [
      "  2%|▏         | 3/200 [00:58<59:59, 18.27s/it]  "
     ]
    },
    {
     "name": "stdout",
     "output_type": "stream",
     "text": [
      "\tExtracted Facts: 4\n",
      "\tRelevant Facts: 4\n",
      "\tExtracted Facts: 48\n",
      "\tRelevant Facts: 48\n"
     ]
    },
    {
     "name": "stderr",
     "output_type": "stream",
     "text": [
      "  2%|▏         | 4/200 [02:30<2:34:46, 47.38s/it]"
     ]
    },
    {
     "name": "stdout",
     "output_type": "stream",
     "text": [
      "\tExtracted Facts: 48\n",
      "\tRelevant Facts: 48\n",
      "\tExtracted Facts: 40\n",
      "\tRelevant Facts: 40\n"
     ]
    },
    {
     "name": "stderr",
     "output_type": "stream",
     "text": [
      "  2%|▎         | 5/200 [03:54<3:16:34, 60.49s/it]"
     ]
    },
    {
     "name": "stdout",
     "output_type": "stream",
     "text": [
      "\tExtracted Facts: 46\n",
      "\tRelevant Facts: 46\n",
      "\tExtracted Facts: 12\n",
      "\tRelevant Facts: 12\n"
     ]
    },
    {
     "name": "stderr",
     "output_type": "stream",
     "text": [
      "  3%|▎         | 6/200 [04:17<2:34:03, 47.65s/it]"
     ]
    },
    {
     "name": "stdout",
     "output_type": "stream",
     "text": [
      "\tExtracted Facts: 12\n",
      "\tRelevant Facts: 12\n",
      "\tExtracted Facts: 57\n",
      "\tRelevant Facts: 57\n"
     ]
    },
    {
     "name": "stderr",
     "output_type": "stream",
     "text": [
      "  4%|▎         | 7/200 [06:07<3:39:15, 68.16s/it]"
     ]
    },
    {
     "name": "stdout",
     "output_type": "stream",
     "text": [
      "\tExtracted Facts: 55\n",
      "\tRelevant Facts: 55\n",
      "\tExtracted Facts: 5\n",
      "\tRelevant Facts: 4\n",
      "\tDropped facts:\n",
      "\t\t * (General Information) - [page number] -> (396)\n"
     ]
    },
    {
     "name": "stderr",
     "output_type": "stream",
     "text": [
      "  4%|▍         | 8/200 [06:18<2:40:20, 50.11s/it]"
     ]
    },
    {
     "name": "stdout",
     "output_type": "stream",
     "text": [
      "\tExtracted Facts: 5\n",
      "\tRelevant Facts: 4\n",
      "\tDropped facts:\n",
      "\t\t * (General Information) - [page number] -> (396)\n",
      "\tExtracted Facts: 14\n",
      "\tRelevant Facts: 14\n"
     ]
    },
    {
     "name": "stderr",
     "output_type": "stream",
     "text": [
      "  4%|▍         | 9/200 [06:45<2:16:20, 42.83s/it]"
     ]
    },
    {
     "name": "stdout",
     "output_type": "stream",
     "text": [
      "\tExtracted Facts: 14\n",
      "\tRelevant Facts: 14\n",
      "\tExtracted Facts: 25\n",
      "\tRelevant Facts: 25\n"
     ]
    },
    {
     "name": "stderr",
     "output_type": "stream",
     "text": [
      "  5%|▌         | 10/200 [07:30<2:17:46, 43.51s/it]"
     ]
    },
    {
     "name": "stdout",
     "output_type": "stream",
     "text": [
      "\tExtracted Facts: 23\n",
      "\tRelevant Facts: 23\n",
      "\tExtracted Facts: 22\n",
      "\tRelevant Facts: 18\n",
      "\tDropped facts:\n",
      "\t\t * (Brake system) - [symbol] -> (E270480)\n",
      "\t\t * (Air conditioning system) - [symbol] -> (E162384)\n",
      "\t\t * (Air conditioning system lubricant) - [type] -> (E231157)\n",
      "\t\t * (Cruise control) - [symbol] -> (E71340)\n"
     ]
    },
    {
     "name": "stderr",
     "output_type": "stream",
     "text": [
      "  6%|▌         | 11/200 [08:01<2:04:37, 39.56s/it]"
     ]
    },
    {
     "name": "stdout",
     "output_type": "stream",
     "text": [
      "\tExtracted Facts: 22\n",
      "\tRelevant Facts: 4\n",
      "\tDropped facts:\n",
      "\t\t * (Battery) - [symbol] -> (present)\n",
      "\t\t * (Engine oil) - [symbol] -> (present)\n",
      "\t\t * (Engine air filter) - [symbol] -> (present)\n",
      "\t\t * (Child seat lower anchor) - [symbol] -> (present)\n",
      "\t\t * (Explosive gas) - [symbol] -> (present)\n",
      "\t\t * (Check fuel cap) - [symbol] -> (present)\n",
      "\t\t * (Engine coolant) - [symbol] -> (present)\n",
      "\t\t * (Avoid smoking, flames or sparks) - [symbol] -> (present)\n",
      "\t\t * (Do not open when hot) - [symbol] -> (present)\n",
      "\t\t * (Engine coolant temperature) - [symbol] -> (present)\n",
      "\t\t * (Brake system) - [symbol] -> (E270480)\n",
      "\t\t * (Cabin air filter) - [symbol] -> (present)\n",
      "\t\t * (Child seat tether anchor) - [symbol] -> (present)\n",
      "\t\t * (Anti-lock braking system) - [symbol] -> (present)\n",
      "\t\t * (Air conditioning system) - [symbol] -> (E162384)\n",
      "\t\t * (Child safety door lock or unlock) - [symbol] -> (present)\n",
      "\t\t * (Battery acid) - [symbol] -> (present)\n",
      "\t\t * (Air conditioning system lubricant) - [type] -> (E231157)\n",
      "\tExtracted Facts: 30\n",
      "\tRelevant Facts: 30\n"
     ]
    },
    {
     "name": "stderr",
     "output_type": "stream",
     "text": [
      "  6%|▌         | 12/200 [08:55<2:17:32, 43.90s/it]"
     ]
    },
    {
     "name": "stdout",
     "output_type": "stream",
     "text": [
      "\tExtracted Facts: 35\n",
      "\tRelevant Facts: 35\n",
      "\tExtracted Facts: 18\n",
      "\tRelevant Facts: 18\n"
     ]
    },
    {
     "name": "stderr",
     "output_type": "stream",
     "text": [
      "  6%|▋         | 13/200 [09:34<2:12:25, 42.49s/it]"
     ]
    },
    {
     "name": "stdout",
     "output_type": "stream",
     "text": [
      "\tExtracted Facts: 18\n",
      "\tRelevant Facts: 18\n",
      "\tExtracted Facts: 12\n",
      "\tRelevant Facts: 12\n"
     ]
    },
    {
     "name": "stderr",
     "output_type": "stream",
     "text": [
      "  7%|▋         | 14/200 [10:03<1:59:19, 38.49s/it]"
     ]
    },
    {
     "name": "stdout",
     "output_type": "stream",
     "text": [
      "\tExtracted Facts: 14\n",
      "\tRelevant Facts: 14\n",
      "\tExtracted Facts: 26\n",
      "\tRelevant Facts: 26\n"
     ]
    },
    {
     "name": "stderr",
     "output_type": "stream",
     "text": [
      "  8%|▊         | 15/200 [10:49<2:05:22, 40.66s/it]"
     ]
    },
    {
     "name": "stdout",
     "output_type": "stream",
     "text": [
      "\tExtracted Facts: 23\n",
      "\tRelevant Facts: 22\n",
      "\tDropped facts:\n",
      "\t\t * (Event data recorder data) - [can be combined with] -> (personally identifying data)\n",
      "\tExtracted Facts: 16\n",
      "\tRelevant Facts: 16\n"
     ]
    },
    {
     "name": "stderr",
     "output_type": "stream",
     "text": [
      "  8%|▊         | 16/200 [11:30<2:05:05, 40.79s/it]"
     ]
    },
    {
     "name": "stdout",
     "output_type": "stream",
     "text": [
      "\tExtracted Facts: 16\n",
      "\tRelevant Facts: 16\n",
      "\tExtracted Facts: 13\n",
      "\tRelevant Facts: 12\n",
      "\tDropped facts:\n",
      "\t\t * (Emergency services operators) - [use] -> (vehicle details)\n"
     ]
    },
    {
     "name": "stderr",
     "output_type": "stream",
     "text": [
      "  8%|▊         | 17/200 [11:58<1:52:44, 36.96s/it]"
     ]
    },
    {
     "name": "stdout",
     "output_type": "stream",
     "text": [
      "\tExtracted Facts: 11\n",
      "\tRelevant Facts: 11\n",
      "\tExtracted Facts: 14\n",
      "\tRelevant Facts: 14\n"
     ]
    },
    {
     "name": "stderr",
     "output_type": "stream",
     "text": [
      "  9%|▉         | 18/200 [12:38<1:55:04, 37.94s/it]"
     ]
    },
    {
     "name": "stdout",
     "output_type": "stream",
     "text": [
      "\tExtracted Facts: 18\n",
      "\tRelevant Facts: 18\n",
      "\tExtracted Facts: 23\n",
      "\tRelevant Facts: 23\n"
     ]
    },
    {
     "name": "stderr",
     "output_type": "stream",
     "text": [
      " 10%|▉         | 19/200 [13:52<2:26:57, 48.72s/it]"
     ]
    },
    {
     "name": "stdout",
     "output_type": "stream",
     "text": [
      "\tExtracted Facts: 20\n",
      "\tRelevant Facts: 20\n",
      "\tExtracted Facts: 6\n",
      "\tRelevant Facts: 6\n"
     ]
    },
    {
     "name": "stderr",
     "output_type": "stream",
     "text": [
      " 10%|█         | 20/200 [14:09<1:57:13, 39.07s/it]"
     ]
    },
    {
     "name": "stdout",
     "output_type": "stream",
     "text": [
      "\tExtracted Facts: 7\n",
      "\tRelevant Facts: 7\n",
      "\tExtracted Facts: 6\n",
      "\tRelevant Facts: 4\n",
      "\tDropped facts:\n",
      "\t\t * (Vehicle usage) - [contributes to] -> (environment protection)\n",
      "\t\t * (Sustainability progress) - [information available at] -> (www.sustainability.ford.com)\n"
     ]
    },
    {
     "name": "stderr",
     "output_type": "stream",
     "text": [
      " 10%|█         | 21/200 [14:24<1:35:12, 31.92s/it]"
     ]
    },
    {
     "name": "stdout",
     "output_type": "stream",
     "text": [
      "\tExtracted Facts: 6\n",
      "\tRelevant Facts: 4\n",
      "\tDropped facts:\n",
      "\t\t * (Vehicle usage) - [contributes to] -> (environment protection)\n",
      "\t\t * (Sustainability progress) - [information available at] -> (www.sustainability.ford.com)\n",
      "\tExtracted Facts: 10\n",
      "\tRelevant Facts: 10\n"
     ]
    },
    {
     "name": "stderr",
     "output_type": "stream",
     "text": [
      " 11%|█         | 22/200 [14:46<1:26:19, 29.10s/it]"
     ]
    },
    {
     "name": "stdout",
     "output_type": "stream",
     "text": [
      "\tExtracted Facts: 10\n",
      "\tRelevant Facts: 10\n",
      "\tExtracted Facts: 5\n",
      "\tRelevant Facts: 4\n",
      "\tDropped facts:\n",
      "\t\t * (Horn) - [manual section] -> (N)\n"
     ]
    },
    {
     "name": "stderr",
     "output_type": "stream",
     "text": [
      " 12%|█▏        | 23/200 [15:00<1:12:12, 24.48s/it]"
     ]
    },
    {
     "name": "stdout",
     "output_type": "stream",
     "text": [
      "\tExtracted Facts: 5\n",
      "\tRelevant Facts: 4\n",
      "\tDropped facts:\n",
      "\t\t * (Horn) - [manual section] -> (N)\n",
      "\tExtracted Facts: 13\n",
      "\tRelevant Facts: 13\n"
     ]
    },
    {
     "name": "stderr",
     "output_type": "stream",
     "text": [
      " 12%|█▏        | 24/200 [15:29<1:15:33, 25.76s/it]"
     ]
    },
    {
     "name": "stdout",
     "output_type": "stream",
     "text": [
      "\tExtracted Facts: 11\n",
      "\tRelevant Facts: 11\n",
      "\tExtracted Facts: 12\n",
      "\tRelevant Facts: 12\n"
     ]
    },
    {
     "name": "stderr",
     "output_type": "stream",
     "text": [
      " 12%|█▎        | 25/200 [15:58<1:17:56, 26.72s/it]"
     ]
    },
    {
     "name": "stdout",
     "output_type": "stream",
     "text": [
      "\tExtracted Facts: 11\n",
      "\tRelevant Facts: 11\n",
      "\tExtracted Facts: 14\n",
      "\tRelevant Facts: 14\n"
     ]
    },
    {
     "name": "stderr",
     "output_type": "stream",
     "text": [
      " 13%|█▎        | 26/200 [16:27<1:19:13, 27.32s/it]"
     ]
    },
    {
     "name": "stdout",
     "output_type": "stream",
     "text": [
      "\tExtracted Facts: 13\n",
      "\tRelevant Facts: 13\n",
      "\tExtracted Facts: 12\n",
      "\tRelevant Facts: 12\n"
     ]
    },
    {
     "name": "stderr",
     "output_type": "stream",
     "text": [
      " 14%|█▎        | 27/200 [16:51<1:16:11, 26.43s/it]"
     ]
    },
    {
     "name": "stdout",
     "output_type": "stream",
     "text": [
      "\tExtracted Facts: 10\n",
      "\tRelevant Facts: 10\n",
      "\tExtracted Facts: 15\n",
      "\tRelevant Facts: 15\n"
     ]
    },
    {
     "name": "stderr",
     "output_type": "stream",
     "text": [
      " 14%|█▍        | 28/200 [17:26<1:23:06, 28.99s/it]"
     ]
    },
    {
     "name": "stdout",
     "output_type": "stream",
     "text": [
      "\tExtracted Facts: 13\n",
      "\tRelevant Facts: 13\n",
      "\tExtracted Facts: 12\n",
      "\tRelevant Facts: 12\n"
     ]
    },
    {
     "name": "stderr",
     "output_type": "stream",
     "text": [
      " 14%|█▍        | 29/200 [17:49<1:17:32, 27.21s/it]"
     ]
    },
    {
     "name": "stdout",
     "output_type": "stream",
     "text": [
      "\tExtracted Facts: 9\n",
      "\tRelevant Facts: 9\n",
      "\tExtracted Facts: 13\n",
      "\tRelevant Facts: 13\n"
     ]
    },
    {
     "name": "stderr",
     "output_type": "stream",
     "text": [
      " 15%|█▌        | 30/200 [18:17<1:18:11, 27.60s/it]"
     ]
    },
    {
     "name": "stdout",
     "output_type": "stream",
     "text": [
      "\tExtracted Facts: 12\n",
      "\tRelevant Facts: 12\n",
      "\tExtracted Facts: 12\n",
      "\tRelevant Facts: 12\n"
     ]
    },
    {
     "name": "stderr",
     "output_type": "stream",
     "text": [
      " 16%|█▌        | 31/200 [18:46<1:18:10, 27.76s/it]"
     ]
    },
    {
     "name": "stdout",
     "output_type": "stream",
     "text": [
      "\tExtracted Facts: 11\n",
      "\tRelevant Facts: 11\n",
      "\tExtracted Facts: 13\n",
      "\tRelevant Facts: 13\n"
     ]
    },
    {
     "name": "stderr",
     "output_type": "stream",
     "text": [
      " 16%|█▌        | 32/200 [19:20<1:23:06, 29.68s/it]"
     ]
    },
    {
     "name": "stdout",
     "output_type": "stream",
     "text": [
      "\tExtracted Facts: 12\n",
      "\tRelevant Facts: 12\n",
      "\tExtracted Facts: 16\n",
      "\tRelevant Facts: 16\n"
     ]
    },
    {
     "name": "stderr",
     "output_type": "stream",
     "text": [
      " 16%|█▋        | 33/200 [20:01<1:32:13, 33.13s/it]"
     ]
    },
    {
     "name": "stdout",
     "output_type": "stream",
     "text": [
      "\tExtracted Facts: 16\n",
      "\tRelevant Facts: 16\n",
      "\tExtracted Facts: 26\n",
      "\tRelevant Facts: 26\n"
     ]
    },
    {
     "name": "stderr",
     "output_type": "stream",
     "text": [
      " 17%|█▋        | 34/200 [21:27<2:15:50, 49.10s/it]"
     ]
    },
    {
     "name": "stdout",
     "output_type": "stream",
     "text": [
      "\tExtracted Facts: 25\n",
      "\tRelevant Facts: 25\n",
      "\tExtracted Facts: 10\n",
      "\tRelevant Facts: 10\n"
     ]
    },
    {
     "name": "stderr",
     "output_type": "stream",
     "text": [
      " 18%|█▊        | 35/200 [21:52<1:55:06, 41.86s/it]"
     ]
    },
    {
     "name": "stdout",
     "output_type": "stream",
     "text": [
      "\tExtracted Facts: 10\n",
      "\tRelevant Facts: 10\n",
      "\tExtracted Facts: 8\n",
      "\tRelevant Facts: 8\n"
     ]
    },
    {
     "name": "stderr",
     "output_type": "stream",
     "text": [
      " 18%|█▊        | 36/200 [22:21<1:43:35, 37.90s/it]"
     ]
    },
    {
     "name": "stdout",
     "output_type": "stream",
     "text": [
      "\tExtracted Facts: 10\n",
      "\tRelevant Facts: 10\n",
      "\tExtracted Facts: 22\n",
      "\tRelevant Facts: 22\n"
     ]
    },
    {
     "name": "stderr",
     "output_type": "stream",
     "text": [
      " 18%|█▊        | 37/200 [23:19<1:59:07, 43.85s/it]"
     ]
    },
    {
     "name": "stdout",
     "output_type": "stream",
     "text": [
      "\tExtracted Facts: 16\n",
      "\tRelevant Facts: 16\n",
      "\tExtracted Facts: 17\n",
      "\tRelevant Facts: 17\n"
     ]
    },
    {
     "name": "stderr",
     "output_type": "stream",
     "text": [
      " 19%|█▉        | 38/200 [24:13<2:06:30, 46.86s/it]"
     ]
    },
    {
     "name": "stdout",
     "output_type": "stream",
     "text": [
      "\tExtracted Facts: 16\n",
      "\tRelevant Facts: 16\n",
      "\tExtracted Facts: 6\n",
      "\tRelevant Facts: 6\n"
     ]
    },
    {
     "name": "stderr",
     "output_type": "stream",
     "text": [
      " 20%|█▉        | 39/200 [24:33<1:44:21, 38.89s/it]"
     ]
    },
    {
     "name": "stdout",
     "output_type": "stream",
     "text": [
      "\tExtracted Facts: 6\n",
      "\tRelevant Facts: 6\n",
      "\tExtracted Facts: 16\n",
      "\tRelevant Facts: 16\n"
     ]
    },
    {
     "name": "stderr",
     "output_type": "stream",
     "text": [
      " 20%|██        | 40/200 [25:27<1:55:34, 43.34s/it]"
     ]
    },
    {
     "name": "stdout",
     "output_type": "stream",
     "text": [
      "\tExtracted Facts: 16\n",
      "\tRelevant Facts: 16\n",
      "\tExtracted Facts: 17\n",
      "\tRelevant Facts: 17\n"
     ]
    },
    {
     "name": "stderr",
     "output_type": "stream",
     "text": [
      " 20%|██        | 41/200 [26:21<2:03:33, 46.62s/it]"
     ]
    },
    {
     "name": "stdout",
     "output_type": "stream",
     "text": [
      "\tExtracted Facts: 17\n",
      "\tRelevant Facts: 17\n",
      "\tExtracted Facts: 14\n",
      "\tRelevant Facts: 14\n"
     ]
    },
    {
     "name": "stderr",
     "output_type": "stream",
     "text": [
      " 21%|██        | 42/200 [27:06<2:01:34, 46.17s/it]"
     ]
    },
    {
     "name": "stdout",
     "output_type": "stream",
     "text": [
      "\tExtracted Facts: 14\n",
      "\tRelevant Facts: 14\n",
      "\tExtracted Facts: 14\n",
      "\tRelevant Facts: 14\n"
     ]
    },
    {
     "name": "stderr",
     "output_type": "stream",
     "text": [
      " 22%|██▏       | 43/200 [27:49<1:58:14, 45.18s/it]"
     ]
    },
    {
     "name": "stdout",
     "output_type": "stream",
     "text": [
      "\tExtracted Facts: 15\n",
      "\tRelevant Facts: 15\n",
      "\tExtracted Facts: 10\n",
      "\tRelevant Facts: 10\n"
     ]
    },
    {
     "name": "stderr",
     "output_type": "stream",
     "text": [
      " 22%|██▏       | 44/200 [28:19<1:45:36, 40.62s/it]"
     ]
    },
    {
     "name": "stdout",
     "output_type": "stream",
     "text": [
      "\tExtracted Facts: 10\n",
      "\tRelevant Facts: 10\n",
      "\tExtracted Facts: 16\n",
      "\tRelevant Facts: 16\n"
     ]
    },
    {
     "name": "stderr",
     "output_type": "stream",
     "text": [
      " 22%|██▎       | 45/200 [29:08<1:51:28, 43.15s/it]"
     ]
    },
    {
     "name": "stdout",
     "output_type": "stream",
     "text": [
      "\tExtracted Facts: 19\n",
      "\tRelevant Facts: 19\n",
      "\tExtracted Facts: 14\n",
      "\tRelevant Facts: 12\n",
      "\tDropped facts:\n",
      "\t\t * (Feature) - [switches on] -> (if currently off)\n",
      "\t\t * (Feature) - [switches off] -> (if currently on)\n"
     ]
    },
    {
     "name": "stderr",
     "output_type": "stream",
     "text": [
      " 23%|██▎       | 46/200 [29:40<1:42:27, 39.92s/it]"
     ]
    },
    {
     "name": "stdout",
     "output_type": "stream",
     "text": [
      "\tExtracted Facts: 14\n",
      "\tRelevant Facts: 12\n",
      "\tDropped facts:\n",
      "\t\t * (Feature) - [switches on] -> (if currently off)\n",
      "\t\t * (Feature) - [switches off] -> (if currently on)\n",
      "\tExtracted Facts: 5\n",
      "\tRelevant Facts: 5\n"
     ]
    },
    {
     "name": "stderr",
     "output_type": "stream",
     "text": [
      " 24%|██▎       | 47/200 [29:54<1:21:39, 32.02s/it]"
     ]
    },
    {
     "name": "stdout",
     "output_type": "stream",
     "text": [
      "\tExtracted Facts: 5\n",
      "\tRelevant Facts: 5\n",
      "\tExtracted Facts: 17\n",
      "\tRelevant Facts: 17\n"
     ]
    },
    {
     "name": "stderr",
     "output_type": "stream",
     "text": [
      " 24%|██▍       | 48/200 [30:33<1:26:16, 34.06s/it]"
     ]
    },
    {
     "name": "stdout",
     "output_type": "stream",
     "text": [
      "\tExtracted Facts: 17\n",
      "\tRelevant Facts: 17\n",
      "\tExtracted Facts: 18\n",
      "\tRelevant Facts: 18\n"
     ]
    },
    {
     "name": "stderr",
     "output_type": "stream",
     "text": [
      " 24%|██▍       | 49/200 [31:06<1:25:16, 33.89s/it]"
     ]
    },
    {
     "name": "stdout",
     "output_type": "stream",
     "text": [
      "\tExtracted Facts: 11\n",
      "\tRelevant Facts: 11\n",
      "\tExtracted Facts: 16\n",
      "\tRelevant Facts: 16\n"
     ]
    },
    {
     "name": "stderr",
     "output_type": "stream",
     "text": [
      " 25%|██▌       | 50/200 [31:35<1:20:33, 32.22s/it]"
     ]
    },
    {
     "name": "stdout",
     "output_type": "stream",
     "text": [
      "\tExtracted Facts: 12\n",
      "\tRelevant Facts: 12\n",
      "\tExtracted Facts: 15\n",
      "\tRelevant Facts: 15\n"
     ]
    },
    {
     "name": "stderr",
     "output_type": "stream",
     "text": [
      " 26%|██▌       | 51/200 [32:15<1:25:50, 34.57s/it]"
     ]
    },
    {
     "name": "stdout",
     "output_type": "stream",
     "text": [
      "\tExtracted Facts: 15\n",
      "\tRelevant Facts: 15\n",
      "\tExtracted Facts: 14\n",
      "\tRelevant Facts: 14\n"
     ]
    },
    {
     "name": "stderr",
     "output_type": "stream",
     "text": [
      " 26%|██▌       | 52/200 [32:48<1:24:35, 34.29s/it]"
     ]
    },
    {
     "name": "stdout",
     "output_type": "stream",
     "text": [
      "\tExtracted Facts: 16\n",
      "\tRelevant Facts: 16\n",
      "\tExtracted Facts: 14\n",
      "\tRelevant Facts: 14\n"
     ]
    },
    {
     "name": "stderr",
     "output_type": "stream",
     "text": [
      " 26%|██▋       | 53/200 [33:22<1:23:53, 34.24s/it]"
     ]
    },
    {
     "name": "stdout",
     "output_type": "stream",
     "text": [
      "\tExtracted Facts: 12\n",
      "\tRelevant Facts: 12\n",
      "\tExtracted Facts: 17\n",
      "\tRelevant Facts: 17\n"
     ]
    },
    {
     "name": "stderr",
     "output_type": "stream",
     "text": [
      " 27%|██▋       | 54/200 [34:11<1:33:55, 38.60s/it]"
     ]
    },
    {
     "name": "stdout",
     "output_type": "stream",
     "text": [
      "\tExtracted Facts: 17\n",
      "\tRelevant Facts: 17\n",
      "\tExtracted Facts: 19\n",
      "\tRelevant Facts: 19\n"
     ]
    },
    {
     "name": "stderr",
     "output_type": "stream",
     "text": [
      " 28%|██▊       | 55/200 [34:56<1:38:04, 40.58s/it]"
     ]
    },
    {
     "name": "stdout",
     "output_type": "stream",
     "text": [
      "\tExtracted Facts: 18\n",
      "\tRelevant Facts: 18\n",
      "\tExtracted Facts: 27\n",
      "\tRelevant Facts: 26\n",
      "\tDropped facts:\n",
      "\t\t * (head) - [lean on] -> (door)\n"
     ]
    },
    {
     "name": "stderr",
     "output_type": "stream",
     "text": [
      " 28%|██▊       | 56/200 [35:54<1:49:45, 45.74s/it]"
     ]
    },
    {
     "name": "stdout",
     "output_type": "stream",
     "text": [
      "\tExtracted Facts: 28\n",
      "\tRelevant Facts: 27\n",
      "\tDropped facts:\n",
      "\t\t * (head) - [lean on] -> (door)\n",
      "\tExtracted Facts: 18\n",
      "\tRelevant Facts: 18\n"
     ]
    },
    {
     "name": "stderr",
     "output_type": "stream",
     "text": [
      " 28%|██▊       | 57/200 [36:39<1:48:11, 45.40s/it]"
     ]
    },
    {
     "name": "stdout",
     "output_type": "stream",
     "text": [
      "\tExtracted Facts: 17\n",
      "\tRelevant Facts: 17\n",
      "\tExtracted Facts: 10\n",
      "\tRelevant Facts: 10\n"
     ]
    },
    {
     "name": "stderr",
     "output_type": "stream",
     "text": [
      " 29%|██▉       | 58/200 [37:03<1:32:30, 39.08s/it]"
     ]
    },
    {
     "name": "stdout",
     "output_type": "stream",
     "text": [
      "\tExtracted Facts: 10\n",
      "\tRelevant Facts: 10\n",
      "\tExtracted Facts: 25\n",
      "\tRelevant Facts: 25\n"
     ]
    },
    {
     "name": "stderr",
     "output_type": "stream",
     "text": [
      " 30%|██▉       | 59/200 [37:59<1:43:37, 44.09s/it]"
     ]
    },
    {
     "name": "stdout",
     "output_type": "stream",
     "text": [
      "\tExtracted Facts: 27\n",
      "\tRelevant Facts: 27\n",
      "\tExtracted Facts: 11\n",
      "\tRelevant Facts: 11\n"
     ]
    },
    {
     "name": "stderr",
     "output_type": "stream",
     "text": [
      " 30%|███       | 60/200 [38:27<1:31:27, 39.20s/it]"
     ]
    },
    {
     "name": "stdout",
     "output_type": "stream",
     "text": [
      "\tExtracted Facts: 11\n",
      "\tRelevant Facts: 11\n",
      "\tExtracted Facts: 7\n",
      "\tRelevant Facts: 7\n"
     ]
    },
    {
     "name": "stderr",
     "output_type": "stream",
     "text": [
      " 30%|███       | 61/200 [38:57<1:24:46, 36.59s/it]"
     ]
    },
    {
     "name": "stdout",
     "output_type": "stream",
     "text": [
      "\tExtracted Facts: 13\n",
      "\tRelevant Facts: 13\n",
      "\tExtracted Facts: 8\n",
      "\tRelevant Facts: 8\n"
     ]
    },
    {
     "name": "stderr",
     "output_type": "stream",
     "text": [
      " 31%|███       | 62/200 [39:17<1:12:55, 31.71s/it]"
     ]
    },
    {
     "name": "stdout",
     "output_type": "stream",
     "text": [
      "\tExtracted Facts: 8\n",
      "\tRelevant Facts: 8\n",
      "\tExtracted Facts: 10\n",
      "\tRelevant Facts: 10\n"
     ]
    },
    {
     "name": "stderr",
     "output_type": "stream",
     "text": [
      " 32%|███▏      | 63/200 [39:46<1:10:19, 30.80s/it]"
     ]
    },
    {
     "name": "stdout",
     "output_type": "stream",
     "text": [
      "\tExtracted Facts: 10\n",
      "\tRelevant Facts: 10\n",
      "\tExtracted Facts: 27\n",
      "\tRelevant Facts: 27\n"
     ]
    },
    {
     "name": "stderr",
     "output_type": "stream",
     "text": [
      " 32%|███▏      | 64/200 [40:41<1:26:29, 38.16s/it]"
     ]
    },
    {
     "name": "stdout",
     "output_type": "stream",
     "text": [
      "\tExtracted Facts: 27\n",
      "\tRelevant Facts: 27\n",
      "\tExtracted Facts: 19\n",
      "\tRelevant Facts: 19\n"
     ]
    },
    {
     "name": "stderr",
     "output_type": "stream",
     "text": [
      " 32%|███▎      | 65/200 [41:29<1:32:26, 41.08s/it]"
     ]
    },
    {
     "name": "stdout",
     "output_type": "stream",
     "text": [
      "\tExtracted Facts: 25\n",
      "\tRelevant Facts: 25\n",
      "\tExtracted Facts: 22\n",
      "\tRelevant Facts: 22\n"
     ]
    },
    {
     "name": "stderr",
     "output_type": "stream",
     "text": [
      " 33%|███▎      | 66/200 [42:17<1:36:01, 43.00s/it]"
     ]
    },
    {
     "name": "stdout",
     "output_type": "stream",
     "text": [
      "\tExtracted Facts: 17\n",
      "\tRelevant Facts: 17\n",
      "\tExtracted Facts: 16\n",
      "\tRelevant Facts: 16\n"
     ]
    },
    {
     "name": "stderr",
     "output_type": "stream",
     "text": [
      " 34%|███▎      | 67/200 [42:50<1:28:46, 40.05s/it]"
     ]
    },
    {
     "name": "stdout",
     "output_type": "stream",
     "text": [
      "\tExtracted Facts: 17\n",
      "\tRelevant Facts: 17\n",
      "\tExtracted Facts: 8\n",
      "\tRelevant Facts: 8\n"
     ]
    },
    {
     "name": "stderr",
     "output_type": "stream",
     "text": [
      " 34%|███▍      | 68/200 [43:08<1:13:42, 33.51s/it]"
     ]
    },
    {
     "name": "stdout",
     "output_type": "stream",
     "text": [
      "\tExtracted Facts: 8\n",
      "\tRelevant Facts: 8\n",
      "\tExtracted Facts: 11\n",
      "\tRelevant Facts: 11\n"
     ]
    },
    {
     "name": "stderr",
     "output_type": "stream",
     "text": [
      " 34%|███▍      | 69/200 [43:32<1:06:34, 30.49s/it]"
     ]
    },
    {
     "name": "stdout",
     "output_type": "stream",
     "text": [
      "\tExtracted Facts: 11\n",
      "\tRelevant Facts: 11\n",
      "\tExtracted Facts: 21\n",
      "\tRelevant Facts: 21\n"
     ]
    },
    {
     "name": "stderr",
     "output_type": "stream",
     "text": [
      " 35%|███▌      | 70/200 [44:22<1:19:11, 36.55s/it]"
     ]
    },
    {
     "name": "stdout",
     "output_type": "stream",
     "text": [
      "\tExtracted Facts: 21\n",
      "\tRelevant Facts: 21\n",
      "\tExtracted Facts: 14\n",
      "\tRelevant Facts: 14\n"
     ]
    },
    {
     "name": "stderr",
     "output_type": "stream",
     "text": [
      " 36%|███▌      | 71/200 [44:49<1:12:18, 33.63s/it]"
     ]
    },
    {
     "name": "stdout",
     "output_type": "stream",
     "text": [
      "\tExtracted Facts: 10\n",
      "\tRelevant Facts: 10\n",
      "\tExtracted Facts: 12\n",
      "\tRelevant Facts: 12\n"
     ]
    },
    {
     "name": "stderr",
     "output_type": "stream",
     "text": [
      " 36%|███▌      | 72/200 [45:25<1:12:56, 34.19s/it]"
     ]
    },
    {
     "name": "stdout",
     "output_type": "stream",
     "text": [
      "\tExtracted Facts: 11\n",
      "\tRelevant Facts: 11\n",
      "\tExtracted Facts: 20\n",
      "\tRelevant Facts: 20\n"
     ]
    },
    {
     "name": "stderr",
     "output_type": "stream",
     "text": [
      " 36%|███▋      | 73/200 [46:05<1:16:01, 35.92s/it]"
     ]
    },
    {
     "name": "stdout",
     "output_type": "stream",
     "text": [
      "\tExtracted Facts: 24\n",
      "\tRelevant Facts: 24\n",
      "\tExtracted Facts: 13\n",
      "\tRelevant Facts: 13\n"
     ]
    },
    {
     "name": "stderr",
     "output_type": "stream",
     "text": [
      " 37%|███▋      | 74/200 [47:07<1:32:23, 43.99s/it]"
     ]
    },
    {
     "name": "stdout",
     "output_type": "stream",
     "text": [
      "\tExtracted Facts: 13\n",
      "\tRelevant Facts: 13\n",
      "\tExtracted Facts: 13\n",
      "\tRelevant Facts: 13\n"
     ]
    },
    {
     "name": "stderr",
     "output_type": "stream",
     "text": [
      " 38%|███▊      | 75/200 [47:37<1:22:29, 39.60s/it]"
     ]
    },
    {
     "name": "stdout",
     "output_type": "stream",
     "text": [
      "\tExtracted Facts: 13\n",
      "\tRelevant Facts: 13\n",
      "\tExtracted Facts: 14\n",
      "\tRelevant Facts: 12\n",
      "\tDropped facts:\n",
      "\t\t * (tailgate) - [angle from horizontal] -> (80 degrees)\n",
      "\t\t * (tailgate) - [angle from horizontal] -> (45 degrees)\n"
     ]
    },
    {
     "name": "stderr",
     "output_type": "stream",
     "text": [
      " 38%|███▊      | 76/200 [48:00<1:11:55, 34.80s/it]"
     ]
    },
    {
     "name": "stdout",
     "output_type": "stream",
     "text": [
      "\tExtracted Facts: 13\n",
      "\tRelevant Facts: 11\n",
      "\tDropped facts:\n",
      "\t\t * (tailgate) - [angle from horizontal] -> (80 degrees)\n",
      "\t\t * (tailgate) - [angle from horizontal] -> (45 degrees)\n",
      "\tExtracted Facts: 13\n",
      "\tRelevant Facts: 13\n"
     ]
    },
    {
     "name": "stderr",
     "output_type": "stream",
     "text": [
      " 38%|███▊      | 77/200 [48:29<1:07:47, 33.07s/it]"
     ]
    },
    {
     "name": "stdout",
     "output_type": "stream",
     "text": [
      "\tExtracted Facts: 16\n",
      "\tRelevant Facts: 16\n",
      "\tExtracted Facts: 6\n",
      "\tRelevant Facts: 6\n"
     ]
    },
    {
     "name": "stderr",
     "output_type": "stream",
     "text": [
      " 39%|███▉      | 78/200 [48:44<55:48, 27.45s/it]  "
     ]
    },
    {
     "name": "stdout",
     "output_type": "stream",
     "text": [
      "\tExtracted Facts: 6\n",
      "\tRelevant Facts: 6\n",
      "\tExtracted Facts: 15\n",
      "\tRelevant Facts: 15\n"
     ]
    },
    {
     "name": "stderr",
     "output_type": "stream",
     "text": [
      " 40%|███▉      | 79/200 [49:20<1:00:54, 30.20s/it]"
     ]
    },
    {
     "name": "stdout",
     "output_type": "stream",
     "text": [
      "\tExtracted Facts: 14\n",
      "\tRelevant Facts: 14\n",
      "\tExtracted Facts: 23\n",
      "\tRelevant Facts: 23\n"
     ]
    },
    {
     "name": "stderr",
     "output_type": "stream",
     "text": [
      " 40%|████      | 80/200 [50:17<1:16:25, 38.21s/it]"
     ]
    },
    {
     "name": "stdout",
     "output_type": "stream",
     "text": [
      "\tExtracted Facts: 22\n",
      "\tRelevant Facts: 22\n",
      "\tExtracted Facts: 20\n",
      "\tRelevant Facts: 20\n"
     ]
    },
    {
     "name": "stderr",
     "output_type": "stream",
     "text": [
      " 40%|████      | 81/200 [50:53<1:14:12, 37.42s/it]"
     ]
    },
    {
     "name": "stdout",
     "output_type": "stream",
     "text": [
      "\tExtracted Facts: 13\n",
      "\tRelevant Facts: 13\n",
      "\tExtracted Facts: 28\n",
      "\tRelevant Facts: 28\n"
     ]
    },
    {
     "name": "stderr",
     "output_type": "stream",
     "text": [
      " 41%|████      | 82/200 [51:52<1:26:26, 43.96s/it]"
     ]
    },
    {
     "name": "stdout",
     "output_type": "stream",
     "text": [
      "\tExtracted Facts: 27\n",
      "\tRelevant Facts: 27\n",
      "\tExtracted Facts: 12\n",
      "\tRelevant Facts: 12\n"
     ]
    },
    {
     "name": "stderr",
     "output_type": "stream",
     "text": [
      " 42%|████▏     | 83/200 [52:21<1:16:46, 39.37s/it]"
     ]
    },
    {
     "name": "stdout",
     "output_type": "stream",
     "text": [
      "\tExtracted Facts: 11\n",
      "\tRelevant Facts: 11\n",
      "\tExtracted Facts: 7\n",
      "\tRelevant Facts: 7\n"
     ]
    },
    {
     "name": "stderr",
     "output_type": "stream",
     "text": [
      " 42%|████▏     | 84/200 [52:37<1:02:33, 32.36s/it]"
     ]
    },
    {
     "name": "stdout",
     "output_type": "stream",
     "text": [
      "\tExtracted Facts: 6\n",
      "\tRelevant Facts: 6\n",
      "\tExtracted Facts: 8\n",
      "\tRelevant Facts: 8\n"
     ]
    },
    {
     "name": "stderr",
     "output_type": "stream",
     "text": [
      " 42%|████▎     | 85/200 [52:57<54:49, 28.61s/it]  "
     ]
    },
    {
     "name": "stdout",
     "output_type": "stream",
     "text": [
      "\tExtracted Facts: 8\n",
      "\tRelevant Facts: 8\n",
      "\tExtracted Facts: 13\n",
      "\tRelevant Facts: 13\n"
     ]
    },
    {
     "name": "stderr",
     "output_type": "stream",
     "text": [
      " 43%|████▎     | 86/200 [53:24<53:38, 28.23s/it]"
     ]
    },
    {
     "name": "stdout",
     "output_type": "stream",
     "text": [
      "\tExtracted Facts: 11\n",
      "\tRelevant Facts: 11\n",
      "\tExtracted Facts: 13\n",
      "\tRelevant Facts: 13\n"
     ]
    },
    {
     "name": "stderr",
     "output_type": "stream",
     "text": [
      " 44%|████▎     | 87/200 [53:49<51:19, 27.25s/it]"
     ]
    },
    {
     "name": "stdout",
     "output_type": "stream",
     "text": [
      "\tExtracted Facts: 13\n",
      "\tRelevant Facts: 13\n",
      "\tExtracted Facts: 12\n",
      "\tRelevant Facts: 12\n"
     ]
    },
    {
     "name": "stderr",
     "output_type": "stream",
     "text": [
      " 44%|████▍     | 88/200 [54:14<49:53, 26.72s/it]"
     ]
    },
    {
     "name": "stdout",
     "output_type": "stream",
     "text": [
      "\tExtracted Facts: 10\n",
      "\tRelevant Facts: 10\n",
      "\tExtracted Facts: 10\n",
      "\tRelevant Facts: 10\n"
     ]
    },
    {
     "name": "stderr",
     "output_type": "stream",
     "text": [
      " 44%|████▍     | 89/200 [54:34<45:28, 24.58s/it]"
     ]
    },
    {
     "name": "stdout",
     "output_type": "stream",
     "text": [
      "\tExtracted Facts: 9\n",
      "\tRelevant Facts: 8\n",
      "\tDropped facts:\n",
      "\t\t * (Vertical control) - [location] -> (on instrument panel)\n",
      "\tExtracted Facts: 18\n",
      "\tRelevant Facts: 18\n"
     ]
    },
    {
     "name": "stderr",
     "output_type": "stream",
     "text": [
      " 45%|████▌     | 90/200 [55:15<53:54, 29.41s/it]"
     ]
    },
    {
     "name": "stdout",
     "output_type": "stream",
     "text": [
      "\tExtracted Facts: 15\n",
      "\tRelevant Facts: 15\n",
      "\tExtracted Facts: 11\n",
      "\tRelevant Facts: 11\n"
     ]
    },
    {
     "name": "stderr",
     "output_type": "stream",
     "text": [
      " 46%|████▌     | 91/200 [55:39<50:26, 27.77s/it]"
     ]
    },
    {
     "name": "stdout",
     "output_type": "stream",
     "text": [
      "\tExtracted Facts: 11\n",
      "\tRelevant Facts: 11\n",
      "\tExtracted Facts: 27\n",
      "\tRelevant Facts: 27\n"
     ]
    },
    {
     "name": "stderr",
     "output_type": "stream",
     "text": [
      " 46%|████▌     | 92/200 [56:29<1:02:17, 34.61s/it]"
     ]
    },
    {
     "name": "stdout",
     "output_type": "stream",
     "text": [
      "\tExtracted Facts: 24\n",
      "\tRelevant Facts: 24\n",
      "\tExtracted Facts: 16\n",
      "\tRelevant Facts: 16\n"
     ]
    },
    {
     "name": "stderr",
     "output_type": "stream",
     "text": [
      " 46%|████▋     | 93/200 [57:03<1:01:05, 34.26s/it]"
     ]
    },
    {
     "name": "stdout",
     "output_type": "stream",
     "text": [
      "\tExtracted Facts: 15\n",
      "\tRelevant Facts: 15\n",
      "\tExtracted Facts: 20\n",
      "\tRelevant Facts: 20\n"
     ]
    },
    {
     "name": "stderr",
     "output_type": "stream",
     "text": [
      " 47%|████▋     | 94/200 [57:44<1:04:08, 36.30s/it]"
     ]
    },
    {
     "name": "stdout",
     "output_type": "stream",
     "text": [
      "\tExtracted Facts: 20\n",
      "\tRelevant Facts: 20\n",
      "\tExtracted Facts: 12\n",
      "\tRelevant Facts: 12\n"
     ]
    },
    {
     "name": "stderr",
     "output_type": "stream",
     "text": [
      " 48%|████▊     | 95/200 [58:13<59:49, 34.18s/it]  "
     ]
    },
    {
     "name": "stdout",
     "output_type": "stream",
     "text": [
      "\tExtracted Facts: 13\n",
      "\tRelevant Facts: 13\n",
      "\tExtracted Facts: 15\n",
      "\tRelevant Facts: 13\n",
      "\tDropped facts:\n",
      "\t\t * (Indicator lamp) - [color when door function off] -> (amber)\n",
      "\t\t * (Button position) - [depends on] -> (vehicle type)\n"
     ]
    },
    {
     "name": "stderr",
     "output_type": "stream",
     "text": [
      " 48%|████▊     | 96/200 [58:52<1:01:51, 35.69s/it]"
     ]
    },
    {
     "name": "stdout",
     "output_type": "stream",
     "text": [
      "\tExtracted Facts: 15\n",
      "\tRelevant Facts: 12\n",
      "\tDropped facts:\n",
      "\t\t * (Door function) - [status] -> (off)\n",
      "\t\t * (Button position) - [depends on] -> (vehicle type)\n",
      "\t\t * (Indicator lamp) - [lights] -> (amber)\n",
      "\tExtracted Facts: 7\n",
      "\tRelevant Facts: 7\n"
     ]
    },
    {
     "name": "stderr",
     "output_type": "stream",
     "text": [
      " 48%|████▊     | 97/200 [59:09<51:44, 30.14s/it]  "
     ]
    },
    {
     "name": "stdout",
     "output_type": "stream",
     "text": [
      "\tExtracted Facts: 7\n",
      "\tRelevant Facts: 7\n",
      "\tExtracted Facts: 13\n",
      "\tRelevant Facts: 13\n"
     ]
    },
    {
     "name": "stderr",
     "output_type": "stream",
     "text": [
      " 49%|████▉     | 98/200 [59:46<54:20, 31.96s/it]"
     ]
    },
    {
     "name": "stdout",
     "output_type": "stream",
     "text": [
      "\tExtracted Facts: 18\n",
      "\tRelevant Facts: 18\n",
      "\tExtracted Facts: 9\n",
      "\tRelevant Facts: 9\n"
     ]
    },
    {
     "name": "stderr",
     "output_type": "stream",
     "text": [
      " 50%|████▉     | 99/200 [1:00:07<48:32, 28.83s/it]"
     ]
    },
    {
     "name": "stdout",
     "output_type": "stream",
     "text": [
      "\tExtracted Facts: 10\n",
      "\tRelevant Facts: 10\n",
      "\tExtracted Facts: 20\n",
      "\tRelevant Facts: 20\n"
     ]
    },
    {
     "name": "stderr",
     "output_type": "stream",
     "text": [
      " 50%|█████     | 100/200 [1:01:01<1:00:38, 36.39s/it]"
     ]
    },
    {
     "name": "stdout",
     "output_type": "stream",
     "text": [
      "\tExtracted Facts: 18\n",
      "\tRelevant Facts: 18\n",
      "\tExtracted Facts: 14\n",
      "\tRelevant Facts: 14\n"
     ]
    },
    {
     "name": "stderr",
     "output_type": "stream",
     "text": [
      " 50%|█████     | 101/200 [1:01:34<58:20, 35.36s/it]  "
     ]
    },
    {
     "name": "stdout",
     "output_type": "stream",
     "text": [
      "\tExtracted Facts: 15\n",
      "\tRelevant Facts: 15\n",
      "\tExtracted Facts: 16\n",
      "\tRelevant Facts: 16\n"
     ]
    },
    {
     "name": "stderr",
     "output_type": "stream",
     "text": [
      " 51%|█████     | 102/200 [1:02:10<57:50, 35.41s/it]"
     ]
    },
    {
     "name": "stdout",
     "output_type": "stream",
     "text": [
      "\tExtracted Facts: 16\n",
      "\tRelevant Facts: 16\n",
      "\tExtracted Facts: 25\n",
      "\tRelevant Facts: 25\n"
     ]
    },
    {
     "name": "stderr",
     "output_type": "stream",
     "text": [
      " 52%|█████▏    | 103/200 [1:02:56<1:02:46, 38.83s/it]"
     ]
    },
    {
     "name": "stdout",
     "output_type": "stream",
     "text": [
      "\tExtracted Facts: 20\n",
      "\tRelevant Facts: 20\n",
      "\tExtracted Facts: 10\n",
      "\tRelevant Facts: 10\n"
     ]
    },
    {
     "name": "stderr",
     "output_type": "stream",
     "text": [
      " 52%|█████▏    | 104/200 [1:03:27<58:23, 36.49s/it]  "
     ]
    },
    {
     "name": "stdout",
     "output_type": "stream",
     "text": [
      "\tExtracted Facts: 10\n",
      "\tRelevant Facts: 10\n",
      "\tExtracted Facts: 17\n",
      "\tRelevant Facts: 17\n"
     ]
    },
    {
     "name": "stderr",
     "output_type": "stream",
     "text": [
      " 52%|█████▎    | 105/200 [1:03:58<54:53, 34.66s/it]"
     ]
    },
    {
     "name": "stdout",
     "output_type": "stream",
     "text": [
      "\tExtracted Facts: 13\n",
      "\tRelevant Facts: 13\n",
      "\tExtracted Facts: 15\n",
      "\tRelevant Facts: 15\n"
     ]
    },
    {
     "name": "stderr",
     "output_type": "stream",
     "text": [
      " 53%|█████▎    | 106/200 [1:04:31<53:40, 34.26s/it]"
     ]
    },
    {
     "name": "stdout",
     "output_type": "stream",
     "text": [
      "\tExtracted Facts: 15\n",
      "\tRelevant Facts: 15\n",
      "\tExtracted Facts: 9\n",
      "\tRelevant Facts: 9\n"
     ]
    },
    {
     "name": "stderr",
     "output_type": "stream",
     "text": [
      " 54%|█████▎    | 107/200 [1:04:48<45:07, 29.11s/it]"
     ]
    },
    {
     "name": "stdout",
     "output_type": "stream",
     "text": [
      "\tExtracted Facts: 7\n",
      "\tRelevant Facts: 7\n",
      "\tExtracted Facts: 10\n",
      "\tRelevant Facts: 10\n"
     ]
    },
    {
     "name": "stderr",
     "output_type": "stream",
     "text": [
      " 54%|█████▍    | 108/200 [1:05:08<40:11, 26.21s/it]"
     ]
    },
    {
     "name": "stdout",
     "output_type": "stream",
     "text": [
      "\tExtracted Facts: 11\n",
      "\tRelevant Facts: 11\n",
      "\tExtracted Facts: 26\n",
      "\tRelevant Facts: 26\n"
     ]
    },
    {
     "name": "stderr",
     "output_type": "stream",
     "text": [
      " 55%|█████▍    | 109/200 [1:06:07<54:36, 36.00s/it]"
     ]
    },
    {
     "name": "stdout",
     "output_type": "stream",
     "text": [
      "\tExtracted Facts: 26\n",
      "\tRelevant Facts: 26\n",
      "\tExtracted Facts: 15\n",
      "\tRelevant Facts: 15\n"
     ]
    },
    {
     "name": "stderr",
     "output_type": "stream",
     "text": [
      " 55%|█████▌    | 110/200 [1:06:42<53:34, 35.71s/it]"
     ]
    },
    {
     "name": "stdout",
     "output_type": "stream",
     "text": [
      "\tExtracted Facts: 14\n",
      "\tRelevant Facts: 14\n",
      "\tExtracted Facts: 19\n",
      "\tRelevant Facts: 19\n"
     ]
    },
    {
     "name": "stderr",
     "output_type": "stream",
     "text": [
      " 56%|█████▌    | 111/200 [1:07:29<58:13, 39.25s/it]"
     ]
    },
    {
     "name": "stdout",
     "output_type": "stream",
     "text": [
      "\tExtracted Facts: 25\n",
      "\tRelevant Facts: 23\n",
      "\tDropped facts:\n",
      "\t\t * (Parking brake) - [risk when engaged] -> (personal injury)\n",
      "\t\t * (Parking brake) - [risk when engaged] -> (brake failure)\n",
      "\tExtracted Facts: 14\n",
      "\tRelevant Facts: 14\n"
     ]
    },
    {
     "name": "stderr",
     "output_type": "stream",
     "text": [
      " 56%|█████▌    | 112/200 [1:08:03<55:06, 37.58s/it]"
     ]
    },
    {
     "name": "stdout",
     "output_type": "stream",
     "text": [
      "\tExtracted Facts: 14\n",
      "\tRelevant Facts: 14\n",
      "\tExtracted Facts: 16\n",
      "\tRelevant Facts: 16\n"
     ]
    },
    {
     "name": "stderr",
     "output_type": "stream",
     "text": [
      " 56%|█████▋    | 113/200 [1:08:38<53:18, 36.76s/it]"
     ]
    },
    {
     "name": "stdout",
     "output_type": "stream",
     "text": [
      "\tExtracted Facts: 15\n",
      "\tRelevant Facts: 15\n",
      "\tExtracted Facts: 15\n",
      "\tRelevant Facts: 15\n"
     ]
    },
    {
     "name": "stderr",
     "output_type": "stream",
     "text": [
      " 57%|█████▋    | 114/200 [1:09:10<50:39, 35.35s/it]"
     ]
    },
    {
     "name": "stdout",
     "output_type": "stream",
     "text": [
      "\tExtracted Facts: 15\n",
      "\tRelevant Facts: 15\n",
      "\tExtracted Facts: 14\n",
      "\tRelevant Facts: 14\n"
     ]
    },
    {
     "name": "stderr",
     "output_type": "stream",
     "text": [
      " 57%|█████▊    | 115/200 [1:09:59<56:01, 39.54s/it]"
     ]
    },
    {
     "name": "stdout",
     "output_type": "stream",
     "text": [
      "\tExtracted Facts: 13\n",
      "\tRelevant Facts: 13\n",
      "\tExtracted Facts: 10\n",
      "\tRelevant Facts: 10\n"
     ]
    },
    {
     "name": "stderr",
     "output_type": "stream",
     "text": [
      " 58%|█████▊    | 116/200 [1:10:25<49:29, 35.35s/it]"
     ]
    },
    {
     "name": "stdout",
     "output_type": "stream",
     "text": [
      "\tExtracted Facts: 10\n",
      "\tRelevant Facts: 10\n",
      "\tExtracted Facts: 21\n",
      "\tRelevant Facts: 21\n"
     ]
    },
    {
     "name": "stderr",
     "output_type": "stream",
     "text": [
      " 58%|█████▊    | 117/200 [1:11:14<54:37, 39.49s/it]"
     ]
    },
    {
     "name": "stdout",
     "output_type": "stream",
     "text": [
      "\tExtracted Facts: 21\n",
      "\tRelevant Facts: 21\n",
      "\tExtracted Facts: 23\n",
      "\tRelevant Facts: 4\n",
      "\tDropped facts:\n",
      "\t\t * (Max Speed) - [is a setting] -> (vehicle)\n",
      "\t\t * (911 Assist) - [is a setting] -> (vehicle)\n",
      "\t\t * (Speed Minder) - [is a setting] -> (vehicle)\n",
      "\t\t * (Trip/Fuel) - [is a setting] -> (vehicle)\n",
      "\t\t * (Display Setup) - [is a setting] -> (vehicle)\n",
      "\t\t * (Tire Pressure) - [is a setting] -> (vehicle)\n",
      "\t\t * (Vol. Limiter) - [is a setting] -> (vehicle)\n",
      "\t\t * (Off Road) - [is a setting] -> (vehicle)\n",
      "\t\t * (Language) - [is a setting] -> (vehicle)\n",
      "\t\t * (Temperature) - [is a setting] -> (vehicle)\n",
      "\t\t * (4 Inch Display Menu) - [is a setting] -> (vehicle)\n",
      "\t\t * (Windows) - [is a setting] -> (vehicle)\n",
      "\t\t * (Display Mode) - [is a setting] -> (vehicle)\n",
      "\t\t * (Do Not Disturb) - [is a setting] -> (vehicle)\n",
      "\t\t * (Wiper) - [is a setting] -> (vehicle)\n",
      "\t\t * (AdvanceTrac) - [is a setting] -> (vehicle)\n",
      "\t\t * (Towing) - [is a setting] -> (vehicle)\n",
      "\t\t * (Display) - [is a setting] -> (vehicle)\n",
      "\t\t * (Main Menu) - [is a setting] -> (vehicle)\n"
     ]
    },
    {
     "name": "stderr",
     "output_type": "stream",
     "text": [
      " 59%|█████▉    | 118/200 [1:11:50<52:46, 38.61s/it]"
     ]
    },
    {
     "name": "stdout",
     "output_type": "stream",
     "text": [
      "\tExtracted Facts: 23\n",
      "\tRelevant Facts: 21\n",
      "\tDropped facts:\n",
      "\t\t * (Wiper) - [is a setting] -> (vehicle)\n",
      "\t\t * (Windows) - [is a setting] -> (vehicle)\n",
      "\tExtracted Facts: 28\n",
      "\tRelevant Facts: 28\n"
     ]
    },
    {
     "name": "stderr",
     "output_type": "stream",
     "text": [
      " 60%|█████▉    | 119/200 [1:12:42<57:28, 42.57s/it]"
     ]
    },
    {
     "name": "stdout",
     "output_type": "stream",
     "text": [
      "\tExtracted Facts: 28\n",
      "\tRelevant Facts: 28\n",
      "\tExtracted Facts: 18\n",
      "\tRelevant Facts: 18\n"
     ]
    },
    {
     "name": "stderr",
     "output_type": "stream",
     "text": [
      " 60%|██████    | 120/200 [1:13:27<57:52, 43.40s/it]"
     ]
    },
    {
     "name": "stdout",
     "output_type": "stream",
     "text": [
      "\tExtracted Facts: 20\n",
      "\tRelevant Facts: 20\n",
      "\tExtracted Facts: 23\n",
      "\tRelevant Facts: 23\n"
     ]
    },
    {
     "name": "stderr",
     "output_type": "stream",
     "text": [
      " 60%|██████    | 121/200 [1:14:06<55:24, 42.08s/it]"
     ]
    },
    {
     "name": "stdout",
     "output_type": "stream",
     "text": [
      "\tExtracted Facts: 24\n",
      "\tRelevant Facts: 24\n",
      "\tExtracted Facts: 19\n",
      "\tRelevant Facts: 19\n"
     ]
    },
    {
     "name": "stderr",
     "output_type": "stream",
     "text": [
      " 61%|██████    | 122/200 [1:14:46<53:55, 41.48s/it]"
     ]
    },
    {
     "name": "stdout",
     "output_type": "stream",
     "text": [
      "\tExtracted Facts: 19\n",
      "\tRelevant Facts: 19\n",
      "\tExtracted Facts: 17\n",
      "\tRelevant Facts: 17\n"
     ]
    },
    {
     "name": "stderr",
     "output_type": "stream",
     "text": [
      " 62%|██████▏   | 123/200 [1:15:23<51:18, 39.98s/it]"
     ]
    },
    {
     "name": "stdout",
     "output_type": "stream",
     "text": [
      "\tExtracted Facts: 17\n",
      "\tRelevant Facts: 17\n",
      "\tExtracted Facts: 19\n",
      "\tRelevant Facts: 19\n"
     ]
    },
    {
     "name": "stderr",
     "output_type": "stream",
     "text": [
      " 62%|██████▏   | 124/200 [1:16:08<52:44, 41.64s/it]"
     ]
    },
    {
     "name": "stdout",
     "output_type": "stream",
     "text": [
      "\tExtracted Facts: 23\n",
      "\tRelevant Facts: 23\n",
      "\tExtracted Facts: 23\n",
      "\tRelevant Facts: 23\n"
     ]
    },
    {
     "name": "stderr",
     "output_type": "stream",
     "text": [
      " 62%|██████▎   | 125/200 [1:16:58<55:00, 44.00s/it]"
     ]
    },
    {
     "name": "stdout",
     "output_type": "stream",
     "text": [
      "\tExtracted Facts: 23\n",
      "\tRelevant Facts: 23\n",
      "\tExtracted Facts: 16\n",
      "\tRelevant Facts: 16\n"
     ]
    },
    {
     "name": "stderr",
     "output_type": "stream",
     "text": [
      " 63%|██████▎   | 126/200 [1:17:33<51:05, 41.43s/it]"
     ]
    },
    {
     "name": "stdout",
     "output_type": "stream",
     "text": [
      "\tExtracted Facts: 15\n",
      "\tRelevant Facts: 15\n",
      "\tExtracted Facts: 8\n",
      "\tRelevant Facts: 8\n"
     ]
    },
    {
     "name": "stderr",
     "output_type": "stream",
     "text": [
      " 64%|██████▎   | 127/200 [1:17:51<41:49, 34.38s/it]"
     ]
    },
    {
     "name": "stdout",
     "output_type": "stream",
     "text": [
      "\tExtracted Facts: 8\n",
      "\tRelevant Facts: 8\n",
      "\tExtracted Facts: 13\n",
      "\tRelevant Facts: 13\n"
     ]
    },
    {
     "name": "stderr",
     "output_type": "stream",
     "text": [
      " 64%|██████▍   | 128/200 [1:18:25<40:57, 34.14s/it]"
     ]
    },
    {
     "name": "stdout",
     "output_type": "stream",
     "text": [
      "\tExtracted Facts: 16\n",
      "\tRelevant Facts: 16\n",
      "\tExtracted Facts: 7\n",
      "\tRelevant Facts: 7\n"
     ]
    },
    {
     "name": "stderr",
     "output_type": "stream",
     "text": [
      " 64%|██████▍   | 129/200 [1:18:44<35:07, 29.68s/it]"
     ]
    },
    {
     "name": "stdout",
     "output_type": "stream",
     "text": [
      "\tExtracted Facts: 9\n",
      "\tRelevant Facts: 9\n",
      "\tExtracted Facts: 13\n",
      "\tRelevant Facts: 13\n"
     ]
    },
    {
     "name": "stderr",
     "output_type": "stream",
     "text": [
      " 65%|██████▌   | 130/200 [1:19:16<35:23, 30.33s/it]"
     ]
    },
    {
     "name": "stdout",
     "output_type": "stream",
     "text": [
      "\tExtracted Facts: 14\n",
      "\tRelevant Facts: 14\n",
      "\tExtracted Facts: 19\n",
      "\tRelevant Facts: 19\n"
     ]
    },
    {
     "name": "stderr",
     "output_type": "stream",
     "text": [
      " 66%|██████▌   | 131/200 [1:19:57<38:43, 33.67s/it]"
     ]
    },
    {
     "name": "stdout",
     "output_type": "stream",
     "text": [
      "\tExtracted Facts: 23\n",
      "\tRelevant Facts: 21\n",
      "\tDropped facts:\n",
      "\t\t * (System) - [turns off] -> (automatically)\n",
      "\t\t * (System) - [displays message] -> (automatically)\n",
      "\tExtracted Facts: 18\n",
      "\tRelevant Facts: 18\n"
     ]
    },
    {
     "name": "stderr",
     "output_type": "stream",
     "text": [
      " 66%|██████▌   | 132/200 [1:20:31<38:09, 33.67s/it]"
     ]
    },
    {
     "name": "stdout",
     "output_type": "stream",
     "text": [
      "\tExtracted Facts: 18\n",
      "\tRelevant Facts: 18\n",
      "\tExtracted Facts: 17\n",
      "\tRelevant Facts: 17\n"
     ]
    },
    {
     "name": "stderr",
     "output_type": "stream",
     "text": [
      " 66%|██████▋   | 133/200 [1:21:07<38:09, 34.17s/it]"
     ]
    },
    {
     "name": "stdout",
     "output_type": "stream",
     "text": [
      "\tExtracted Facts: 17\n",
      "\tRelevant Facts: 17\n",
      "\tExtracted Facts: 12\n",
      "\tRelevant Facts: 12\n"
     ]
    },
    {
     "name": "stderr",
     "output_type": "stream",
     "text": [
      " 67%|██████▋   | 134/200 [1:21:32<34:37, 31.48s/it]"
     ]
    },
    {
     "name": "stdout",
     "output_type": "stream",
     "text": [
      "\tExtracted Facts: 12\n",
      "\tRelevant Facts: 12\n",
      "\tExtracted Facts: 12\n",
      "\tRelevant Facts: 12\n"
     ]
    },
    {
     "name": "stderr",
     "output_type": "stream",
     "text": [
      " 68%|██████▊   | 135/200 [1:21:56<31:45, 29.31s/it]"
     ]
    },
    {
     "name": "stdout",
     "output_type": "stream",
     "text": [
      "\tExtracted Facts: 12\n",
      "\tRelevant Facts: 12\n",
      "\tExtracted Facts: 12\n",
      "\tRelevant Facts: 12\n"
     ]
    },
    {
     "name": "stderr",
     "output_type": "stream",
     "text": [
      " 68%|██████▊   | 136/200 [1:22:26<31:33, 29.58s/it]"
     ]
    },
    {
     "name": "stdout",
     "output_type": "stream",
     "text": [
      "\tExtracted Facts: 12\n",
      "\tRelevant Facts: 12\n",
      "\tExtracted Facts: 16\n",
      "\tRelevant Facts: 16\n"
     ]
    },
    {
     "name": "stderr",
     "output_type": "stream",
     "text": [
      " 68%|██████▊   | 137/200 [1:22:56<31:09, 29.68s/it]"
     ]
    },
    {
     "name": "stdout",
     "output_type": "stream",
     "text": [
      "\tExtracted Facts: 15\n",
      "\tRelevant Facts: 12\n",
      "\tDropped facts:\n",
      "\t\t * (vehicle speed) - [at top speed] -> (MyKey setting)\n",
      "\t\t * (MyKey) - [status] -> (not programmed)\n",
      "\t\t * (vehicle speed) - [approaching] -> (81 mph)\n",
      "\tExtracted Facts: 15\n",
      "\tRelevant Facts: 15\n"
     ]
    },
    {
     "name": "stderr",
     "output_type": "stream",
     "text": [
      " 69%|██████▉   | 138/200 [1:23:25<30:32, 29.56s/it]"
     ]
    },
    {
     "name": "stdout",
     "output_type": "stream",
     "text": [
      "\tExtracted Facts: 14\n",
      "\tRelevant Facts: 14\n",
      "\tExtracted Facts: 9\n",
      "\tRelevant Facts: 9\n"
     ]
    },
    {
     "name": "stderr",
     "output_type": "stream",
     "text": [
      " 70%|██████▉   | 139/200 [1:23:56<30:14, 29.75s/it]"
     ]
    },
    {
     "name": "stdout",
     "output_type": "stream",
     "text": [
      "\tExtracted Facts: 9\n",
      "\tRelevant Facts: 8\n",
      "\tDropped facts:\n",
      "\tExtracted Facts: 12\n",
      "\tRelevant Facts: 12\n"
     ]
    },
    {
     "name": "stderr",
     "output_type": "stream",
     "text": [
      " 70%|███████   | 140/200 [1:24:20<28:15, 28.25s/it]"
     ]
    },
    {
     "name": "stdout",
     "output_type": "stream",
     "text": [
      "\tExtracted Facts: 12\n",
      "\tRelevant Facts: 12\n",
      "\tExtracted Facts: 13\n",
      "\tRelevant Facts: 13\n"
     ]
    },
    {
     "name": "stderr",
     "output_type": "stream",
     "text": [
      " 70%|███████   | 141/200 [1:24:51<28:22, 28.85s/it]"
     ]
    },
    {
     "name": "stdout",
     "output_type": "stream",
     "text": [
      "\tExtracted Facts: 12\n",
      "\tRelevant Facts: 12\n",
      "\tExtracted Facts: 13\n",
      "\tRelevant Facts: 12\n",
      "\tDropped facts:\n",
      "\t\t * (Trailer Brake Gain) - [current gain setting without trailer] -> (trailer gain value)\n"
     ]
    },
    {
     "name": "stderr",
     "output_type": "stream",
     "text": [
      " 71%|███████   | 142/200 [1:25:20<28:07, 29.09s/it]"
     ]
    },
    {
     "name": "stdout",
     "output_type": "stream",
     "text": [
      "\tExtracted Facts: 13\n",
      "\tRelevant Facts: 13\n",
      "\tExtracted Facts: 16\n",
      "\tRelevant Facts: 16\n"
     ]
    },
    {
     "name": "stderr",
     "output_type": "stream",
     "text": [
      " 72%|███████▏  | 143/200 [1:25:58<30:11, 31.78s/it]"
     ]
    },
    {
     "name": "stdout",
     "output_type": "stream",
     "text": [
      "\tExtracted Facts: 17\n",
      "\tRelevant Facts: 17\n",
      "\tExtracted Facts: 6\n",
      "\tRelevant Facts: 6\n"
     ]
    },
    {
     "name": "stderr",
     "output_type": "stream",
     "text": [
      " 72%|███████▏  | 144/200 [1:26:17<26:08, 28.01s/it]"
     ]
    },
    {
     "name": "stdout",
     "output_type": "stream",
     "text": [
      "\tExtracted Facts: 8\n",
      "\tRelevant Facts: 8\n",
      "\tExtracted Facts: 8\n",
      "\tRelevant Facts: 8\n"
     ]
    },
    {
     "name": "stderr",
     "output_type": "stream",
     "text": [
      " 72%|███████▎  | 145/200 [1:26:41<24:23, 26.61s/it]"
     ]
    },
    {
     "name": "stdout",
     "output_type": "stream",
     "text": [
      "\tExtracted Facts: 8\n",
      "\tRelevant Facts: 8\n",
      "\tExtracted Facts: 11\n",
      "\tRelevant Facts: 11\n"
     ]
    },
    {
     "name": "stderr",
     "output_type": "stream",
     "text": [
      " 73%|███████▎  | 146/200 [1:27:10<24:32, 27.26s/it]"
     ]
    },
    {
     "name": "stdout",
     "output_type": "stream",
     "text": [
      "\tExtracted Facts: 14\n",
      "\tRelevant Facts: 14\n",
      "\tExtracted Facts: 19\n",
      "\tRelevant Facts: 19\n"
     ]
    },
    {
     "name": "stderr",
     "output_type": "stream",
     "text": [
      " 74%|███████▎  | 147/200 [1:27:46<26:34, 30.08s/it]"
     ]
    },
    {
     "name": "stdout",
     "output_type": "stream",
     "text": [
      "\tExtracted Facts: 13\n",
      "\tRelevant Facts: 13\n",
      "\tExtracted Facts: 26\n",
      "\tRelevant Facts: 26\n"
     ]
    },
    {
     "name": "stderr",
     "output_type": "stream",
     "text": [
      " 74%|███████▍  | 148/200 [1:28:36<31:05, 35.87s/it]"
     ]
    },
    {
     "name": "stdout",
     "output_type": "stream",
     "text": [
      "\tExtracted Facts: 17\n",
      "\tRelevant Facts: 17\n",
      "\tExtracted Facts: 15\n",
      "\tRelevant Facts: 15\n"
     ]
    },
    {
     "name": "stderr",
     "output_type": "stream",
     "text": [
      " 74%|███████▍  | 149/200 [1:29:09<29:46, 35.02s/it]"
     ]
    },
    {
     "name": "stdout",
     "output_type": "stream",
     "text": [
      "\tExtracted Facts: 13\n",
      "\tRelevant Facts: 13\n",
      "\tExtracted Facts: 19\n",
      "\tRelevant Facts: 19\n"
     ]
    },
    {
     "name": "stderr",
     "output_type": "stream",
     "text": [
      " 75%|███████▌  | 150/200 [1:29:45<29:32, 35.45s/it]"
     ]
    },
    {
     "name": "stdout",
     "output_type": "stream",
     "text": [
      "\tExtracted Facts: 17\n",
      "\tRelevant Facts: 17\n",
      "\tExtracted Facts: 25\n",
      "\tRelevant Facts: 25\n"
     ]
    },
    {
     "name": "stderr",
     "output_type": "stream",
     "text": [
      " 76%|███████▌  | 151/200 [1:30:33<32:01, 39.20s/it]"
     ]
    },
    {
     "name": "stdout",
     "output_type": "stream",
     "text": [
      "\tExtracted Facts: 25\n",
      "\tRelevant Facts: 25\n",
      "\tExtracted Facts: 11\n",
      "\tRelevant Facts: 11\n"
     ]
    },
    {
     "name": "stderr",
     "output_type": "stream",
     "text": [
      " 76%|███████▌  | 152/200 [1:30:57<27:48, 34.75s/it]"
     ]
    },
    {
     "name": "stdout",
     "output_type": "stream",
     "text": [
      "\tExtracted Facts: 10\n",
      "\tRelevant Facts: 10\n",
      "\tExtracted Facts: 14\n",
      "\tRelevant Facts: 14\n"
     ]
    },
    {
     "name": "stderr",
     "output_type": "stream",
     "text": [
      " 76%|███████▋  | 153/200 [1:31:39<28:43, 36.67s/it]"
     ]
    },
    {
     "name": "stdout",
     "output_type": "stream",
     "text": [
      "\tExtracted Facts: 18\n",
      "\tRelevant Facts: 18\n",
      "\tExtracted Facts: 21\n",
      "\tRelevant Facts: 21\n"
     ]
    },
    {
     "name": "stderr",
     "output_type": "stream",
     "text": [
      " 77%|███████▋  | 154/200 [1:32:22<29:37, 38.63s/it]"
     ]
    },
    {
     "name": "stdout",
     "output_type": "stream",
     "text": [
      "\tExtracted Facts: 20\n",
      "\tRelevant Facts: 20\n",
      "\tExtracted Facts: 13\n",
      "\tRelevant Facts: 13\n"
     ]
    },
    {
     "name": "stderr",
     "output_type": "stream",
     "text": [
      " 78%|███████▊  | 155/200 [1:32:50<26:41, 35.59s/it]"
     ]
    },
    {
     "name": "stdout",
     "output_type": "stream",
     "text": [
      "\tExtracted Facts: 13\n",
      "\tRelevant Facts: 13\n",
      "\tExtracted Facts: 6\n",
      "\tRelevant Facts: 6\n"
     ]
    },
    {
     "name": "stderr",
     "output_type": "stream",
     "text": [
      " 78%|███████▊  | 156/200 [1:33:05<21:25, 29.22s/it]"
     ]
    },
    {
     "name": "stdout",
     "output_type": "stream",
     "text": [
      "\tExtracted Facts: 6\n",
      "\tRelevant Facts: 6\n",
      "\tExtracted Facts: 9\n",
      "\tRelevant Facts: 9\n"
     ]
    },
    {
     "name": "stderr",
     "output_type": "stream",
     "text": [
      " 78%|███████▊  | 157/200 [1:33:26<19:15, 26.88s/it]"
     ]
    },
    {
     "name": "stdout",
     "output_type": "stream",
     "text": [
      "\tExtracted Facts: 7\n",
      "\tRelevant Facts: 7\n",
      "\tExtracted Facts: 15\n",
      "\tRelevant Facts: 15\n"
     ]
    },
    {
     "name": "stderr",
     "output_type": "stream",
     "text": [
      " 79%|███████▉  | 158/200 [1:33:57<19:41, 28.13s/it]"
     ]
    },
    {
     "name": "stdout",
     "output_type": "stream",
     "text": [
      "\tExtracted Facts: 14\n",
      "\tRelevant Facts: 14\n",
      "\tExtracted Facts: 14\n",
      "\tRelevant Facts: 14\n"
     ]
    },
    {
     "name": "stderr",
     "output_type": "stream",
     "text": [
      " 80%|███████▉  | 159/200 [1:34:29<20:02, 29.34s/it]"
     ]
    },
    {
     "name": "stdout",
     "output_type": "stream",
     "text": [
      "\tExtracted Facts: 16\n",
      "\tRelevant Facts: 16\n",
      "\tExtracted Facts: 13\n",
      "\tRelevant Facts: 13\n"
     ]
    },
    {
     "name": "stderr",
     "output_type": "stream",
     "text": [
      " 80%|████████  | 160/200 [1:34:56<18:57, 28.43s/it]"
     ]
    },
    {
     "name": "stdout",
     "output_type": "stream",
     "text": [
      "\tExtracted Facts: 14\n",
      "\tRelevant Facts: 14\n",
      "\tExtracted Facts: 10\n",
      "\tRelevant Facts: 10\n"
     ]
    },
    {
     "name": "stderr",
     "output_type": "stream",
     "text": [
      " 80%|████████  | 161/200 [1:35:19<17:26, 26.83s/it]"
     ]
    },
    {
     "name": "stdout",
     "output_type": "stream",
     "text": [
      "\tExtracted Facts: 9\n",
      "\tRelevant Facts: 9\n",
      "\tExtracted Facts: 9\n",
      "\tRelevant Facts: 9\n"
     ]
    },
    {
     "name": "stderr",
     "output_type": "stream",
     "text": [
      " 81%|████████  | 162/200 [1:35:40<16:01, 25.30s/it]"
     ]
    },
    {
     "name": "stdout",
     "output_type": "stream",
     "text": [
      "\tExtracted Facts: 10\n",
      "\tRelevant Facts: 10\n",
      "\tExtracted Facts: 15\n",
      "\tRelevant Facts: 15\n"
     ]
    },
    {
     "name": "stderr",
     "output_type": "stream",
     "text": [
      " 82%|████████▏ | 163/200 [1:36:09<16:11, 26.25s/it]"
     ]
    },
    {
     "name": "stdout",
     "output_type": "stream",
     "text": [
      "\tExtracted Facts: 15\n",
      "\tRelevant Facts: 15\n",
      "\tExtracted Facts: 19\n",
      "\tRelevant Facts: 19\n"
     ]
    },
    {
     "name": "stderr",
     "output_type": "stream",
     "text": [
      " 82%|████████▏ | 164/200 [1:36:53<19:00, 31.69s/it]"
     ]
    },
    {
     "name": "stdout",
     "output_type": "stream",
     "text": [
      "\tExtracted Facts: 23\n",
      "\tRelevant Facts: 23\n",
      "\tExtracted Facts: 13\n",
      "\tRelevant Facts: 13\n"
     ]
    },
    {
     "name": "stderr",
     "output_type": "stream",
     "text": [
      " 82%|████████▎ | 165/200 [1:37:20<17:37, 30.21s/it]"
     ]
    },
    {
     "name": "stdout",
     "output_type": "stream",
     "text": [
      "\tExtracted Facts: 11\n",
      "\tRelevant Facts: 11\n",
      "\tExtracted Facts: 16\n",
      "\tRelevant Facts: 16\n"
     ]
    },
    {
     "name": "stderr",
     "output_type": "stream",
     "text": [
      " 83%|████████▎ | 166/200 [1:37:50<17:05, 30.15s/it]"
     ]
    },
    {
     "name": "stdout",
     "output_type": "stream",
     "text": [
      "\tExtracted Facts: 14\n",
      "\tRelevant Facts: 13\n",
      "\tDropped facts:\n",
      "\t\t * (garage door opener) - [brand dependency] -> (repeat sequence)\n",
      "\tExtracted Facts: 11\n",
      "\tRelevant Facts: 11\n"
     ]
    },
    {
     "name": "stderr",
     "output_type": "stream",
     "text": [
      " 84%|████████▎ | 167/200 [1:38:13<15:22, 27.97s/it]"
     ]
    },
    {
     "name": "stdout",
     "output_type": "stream",
     "text": [
      "\tExtracted Facts: 9\n",
      "\tRelevant Facts: 9\n",
      "\tExtracted Facts: 20\n",
      "\tRelevant Facts: 20\n"
     ]
    },
    {
     "name": "stderr",
     "output_type": "stream",
     "text": [
      " 84%|████████▍ | 168/200 [1:39:07<19:00, 35.65s/it]"
     ]
    },
    {
     "name": "stdout",
     "output_type": "stream",
     "text": [
      "\tExtracted Facts: 16\n",
      "\tRelevant Facts: 16\n",
      "\tExtracted Facts: 32\n",
      "\tRelevant Facts: 32\n"
     ]
    },
    {
     "name": "stderr",
     "output_type": "stream",
     "text": [
      " 84%|████████▍ | 169/200 [1:39:55<20:28, 39.63s/it]"
     ]
    },
    {
     "name": "stdout",
     "output_type": "stream",
     "text": [
      "\tExtracted Facts: 29\n",
      "\tRelevant Facts: 29\n",
      "\tExtracted Facts: 21\n",
      "\tRelevant Facts: 21\n"
     ]
    },
    {
     "name": "stderr",
     "output_type": "stream",
     "text": [
      " 85%|████████▌ | 170/200 [1:40:31<19:16, 38.54s/it]"
     ]
    },
    {
     "name": "stdout",
     "output_type": "stream",
     "text": [
      "\tExtracted Facts: 26\n",
      "\tRelevant Facts: 26\n",
      "\tExtracted Facts: 13\n",
      "\tRelevant Facts: 13\n"
     ]
    },
    {
     "name": "stderr",
     "output_type": "stream",
     "text": [
      " 86%|████████▌ | 171/200 [1:40:57<16:43, 34.59s/it]"
     ]
    },
    {
     "name": "stdout",
     "output_type": "stream",
     "text": [
      "\tExtracted Facts: 15\n",
      "\tRelevant Facts: 15\n",
      "\tExtracted Facts: 15\n",
      "\tRelevant Facts: 15\n"
     ]
    },
    {
     "name": "stderr",
     "output_type": "stream",
     "text": [
      " 86%|████████▌ | 172/200 [1:41:32<16:12, 34.74s/it]"
     ]
    },
    {
     "name": "stdout",
     "output_type": "stream",
     "text": [
      "\tExtracted Facts: 17\n",
      "\tRelevant Facts: 17\n",
      "\tExtracted Facts: 10\n",
      "\tRelevant Facts: 10\n"
     ]
    },
    {
     "name": "stderr",
     "output_type": "stream",
     "text": [
      " 86%|████████▋ | 173/200 [1:41:58<14:24, 32.02s/it]"
     ]
    },
    {
     "name": "stdout",
     "output_type": "stream",
     "text": [
      "\tExtracted Facts: 11\n",
      "\tRelevant Facts: 11\n",
      "\tExtracted Facts: 5\n",
      "\tRelevant Facts: 5\n"
     ]
    },
    {
     "name": "stderr",
     "output_type": "stream",
     "text": [
      " 87%|████████▋ | 174/200 [1:42:09<11:14, 25.95s/it]"
     ]
    },
    {
     "name": "stdout",
     "output_type": "stream",
     "text": [
      "\tExtracted Facts: 5\n",
      "\tRelevant Facts: 5\n",
      "\tExtracted Facts: 9\n",
      "\tRelevant Facts: 9\n"
     ]
    },
    {
     "name": "stderr",
     "output_type": "stream",
     "text": [
      " 88%|████████▊ | 175/200 [1:42:21<09:04, 21.79s/it]"
     ]
    },
    {
     "name": "stdout",
     "output_type": "stream",
     "text": [
      "\tExtracted Facts: 5\n",
      "\tRelevant Facts: 5\n",
      "\tExtracted Facts: 17\n",
      "\tRelevant Facts: 17\n"
     ]
    },
    {
     "name": "stderr",
     "output_type": "stream",
     "text": [
      " 88%|████████▊ | 176/200 [1:42:56<10:12, 25.50s/it]"
     ]
    },
    {
     "name": "stdout",
     "output_type": "stream",
     "text": [
      "\tExtracted Facts: 16\n",
      "\tRelevant Facts: 16\n",
      "\tExtracted Facts: 22\n",
      "\tRelevant Facts: 22\n"
     ]
    },
    {
     "name": "stderr",
     "output_type": "stream",
     "text": [
      " 88%|████████▊ | 177/200 [1:43:36<11:28, 29.92s/it]"
     ]
    },
    {
     "name": "stdout",
     "output_type": "stream",
     "text": [
      "\tExtracted Facts: 25\n",
      "\tRelevant Facts: 25\n",
      "\tExtracted Facts: 18\n",
      "\tRelevant Facts: 18\n"
     ]
    },
    {
     "name": "stderr",
     "output_type": "stream",
     "text": [
      " 89%|████████▉ | 178/200 [1:44:18<12:19, 33.61s/it]"
     ]
    },
    {
     "name": "stdout",
     "output_type": "stream",
     "text": [
      "\tExtracted Facts: 23\n",
      "\tRelevant Facts: 23\n",
      "\tExtracted Facts: 18\n",
      "\tRelevant Facts: 18\n"
     ]
    },
    {
     "name": "stderr",
     "output_type": "stream",
     "text": [
      " 90%|████████▉ | 179/200 [1:44:52<11:46, 33.62s/it]"
     ]
    },
    {
     "name": "stdout",
     "output_type": "stream",
     "text": [
      "\tExtracted Facts: 14\n",
      "\tRelevant Facts: 14\n",
      "\tExtracted Facts: 37\n",
      "\tRelevant Facts: 37\n"
     ]
    },
    {
     "name": "stderr",
     "output_type": "stream",
     "text": [
      " 90%|█████████ | 180/200 [1:45:53<14:01, 42.07s/it]"
     ]
    },
    {
     "name": "stdout",
     "output_type": "stream",
     "text": [
      "\tExtracted Facts: 19\n",
      "\tRelevant Facts: 19\n",
      "\tExtracted Facts: 17\n",
      "\tRelevant Facts: 17\n"
     ]
    },
    {
     "name": "stderr",
     "output_type": "stream",
     "text": [
      " 90%|█████████ | 181/200 [1:46:28<12:33, 39.66s/it]"
     ]
    },
    {
     "name": "stdout",
     "output_type": "stream",
     "text": [
      "\tExtracted Facts: 12\n",
      "\tRelevant Facts: 12\n",
      "\tExtracted Facts: 11\n",
      "\tRelevant Facts: 11\n"
     ]
    },
    {
     "name": "stderr",
     "output_type": "stream",
     "text": [
      " 91%|█████████ | 182/200 [1:47:05<11:40, 38.89s/it]"
     ]
    },
    {
     "name": "stdout",
     "output_type": "stream",
     "text": [
      "\tExtracted Facts: 26\n",
      "\tRelevant Facts: 26\n",
      "\tExtracted Facts: 23\n",
      "\tRelevant Facts: 23\n"
     ]
    },
    {
     "name": "stderr",
     "output_type": "stream",
     "text": [
      " 92%|█████████▏| 183/200 [1:47:53<11:47, 41.61s/it]"
     ]
    },
    {
     "name": "stdout",
     "output_type": "stream",
     "text": [
      "\tExtracted Facts: 26\n",
      "\tRelevant Facts: 26\n",
      "\tExtracted Facts: 19\n",
      "\tRelevant Facts: 19\n"
     ]
    },
    {
     "name": "stderr",
     "output_type": "stream",
     "text": [
      " 92%|█████████▏| 184/200 [1:48:37<11:18, 42.43s/it]"
     ]
    },
    {
     "name": "stdout",
     "output_type": "stream",
     "text": [
      "\tExtracted Facts: 20\n",
      "\tRelevant Facts: 20\n",
      "\tExtracted Facts: 13\n",
      "\tRelevant Facts: 13\n"
     ]
    },
    {
     "name": "stderr",
     "output_type": "stream",
     "text": [
      " 92%|█████████▎| 185/200 [1:49:20<10:40, 42.71s/it]"
     ]
    },
    {
     "name": "stdout",
     "output_type": "stream",
     "text": [
      "\tExtracted Facts: 18\n",
      "\tRelevant Facts: 18\n",
      "\tExtracted Facts: 34\n",
      "\tRelevant Facts: 34\n"
     ]
    },
    {
     "name": "stderr",
     "output_type": "stream",
     "text": [
      " 93%|█████████▎| 186/200 [1:50:19<11:04, 47.45s/it]"
     ]
    },
    {
     "name": "stdout",
     "output_type": "stream",
     "text": [
      "\tExtracted Facts: 30\n",
      "\tRelevant Facts: 30\n",
      "\tExtracted Facts: 19\n",
      "\tRelevant Facts: 19\n"
     ]
    },
    {
     "name": "stderr",
     "output_type": "stream",
     "text": [
      " 94%|█████████▎| 187/200 [1:51:08<10:23, 47.98s/it]"
     ]
    },
    {
     "name": "stdout",
     "output_type": "stream",
     "text": [
      "\tExtracted Facts: 25\n",
      "\tRelevant Facts: 25\n",
      "\tExtracted Facts: 14\n",
      "\tRelevant Facts: 14\n"
     ]
    },
    {
     "name": "stderr",
     "output_type": "stream",
     "text": [
      " 94%|█████████▍| 188/200 [1:51:47<09:04, 45.38s/it]"
     ]
    },
    {
     "name": "stdout",
     "output_type": "stream",
     "text": [
      "\tExtracted Facts: 12\n",
      "\tRelevant Facts: 12\n",
      "\tExtracted Facts: 21\n",
      "\tRelevant Facts: 21\n"
     ]
    },
    {
     "name": "stderr",
     "output_type": "stream",
     "text": [
      " 94%|█████████▍| 189/200 [1:52:47<09:05, 49.60s/it]"
     ]
    },
    {
     "name": "stdout",
     "output_type": "stream",
     "text": [
      "\tExtracted Facts: 19\n",
      "\tRelevant Facts: 19\n",
      "\tExtracted Facts: 9\n",
      "\tRelevant Facts: 9\n"
     ]
    },
    {
     "name": "stderr",
     "output_type": "stream",
     "text": [
      " 95%|█████████▌| 190/200 [1:53:09<06:53, 41.31s/it]"
     ]
    },
    {
     "name": "stdout",
     "output_type": "stream",
     "text": [
      "\tExtracted Facts: 10\n",
      "\tRelevant Facts: 9\n",
      "\tDropped facts:\n",
      "\t\t * (Vehicle) - [export requirement] -> (retrofitting)\n",
      "\tExtracted Facts: 17\n",
      "\tRelevant Facts: 17\n"
     ]
    },
    {
     "name": "stderr",
     "output_type": "stream",
     "text": [
      " 96%|█████████▌| 191/200 [1:53:48<06:07, 40.79s/it]"
     ]
    },
    {
     "name": "stdout",
     "output_type": "stream",
     "text": [
      "\tExtracted Facts: 25\n",
      "\tRelevant Facts: 25\n",
      "\tExtracted Facts: 17\n",
      "\tRelevant Facts: 17\n"
     ]
    },
    {
     "name": "stderr",
     "output_type": "stream",
     "text": [
      " 96%|█████████▌| 192/200 [1:54:22<05:09, 38.66s/it]"
     ]
    },
    {
     "name": "stdout",
     "output_type": "stream",
     "text": [
      "\tExtracted Facts: 16\n",
      "\tRelevant Facts: 16\n",
      "\tExtracted Facts: 23\n",
      "\tRelevant Facts: 23\n"
     ]
    },
    {
     "name": "stderr",
     "output_type": "stream",
     "text": [
      " 96%|█████████▋| 193/200 [1:55:09<04:47, 41.06s/it]"
     ]
    },
    {
     "name": "stdout",
     "output_type": "stream",
     "text": [
      "\tExtracted Facts: 20\n",
      "\tRelevant Facts: 20\n",
      "\tExtracted Facts: 18\n",
      "\tRelevant Facts: 18\n"
     ]
    },
    {
     "name": "stderr",
     "output_type": "stream",
     "text": [
      " 97%|█████████▋| 194/200 [1:55:42<03:52, 38.67s/it]"
     ]
    },
    {
     "name": "stdout",
     "output_type": "stream",
     "text": [
      "\tExtracted Facts: 17\n",
      "\tRelevant Facts: 17\n",
      "\tExtracted Facts: 18\n",
      "\tRelevant Facts: 18\n"
     ]
    },
    {
     "name": "stderr",
     "output_type": "stream",
     "text": [
      " 98%|█████████▊| 195/200 [1:56:32<03:30, 42.06s/it]"
     ]
    },
    {
     "name": "stdout",
     "output_type": "stream",
     "text": [
      "\tExtracted Facts: 19\n",
      "\tRelevant Facts: 19\n",
      "\tExtracted Facts: 17\n",
      "\tRelevant Facts: 16\n",
      "\tDropped facts:\n",
      "\t\t * (Floor covering) - [protects] -> (occupants)\n"
     ]
    },
    {
     "name": "stderr",
     "output_type": "stream",
     "text": [
      " 98%|█████████▊| 196/200 [1:57:08<02:41, 40.26s/it]"
     ]
    },
    {
     "name": "stdout",
     "output_type": "stream",
     "text": [
      "\tExtracted Facts: 15\n",
      "\tRelevant Facts: 13\n",
      "\tDropped facts:\n",
      "\t\t * (Floor covering) - [protects] -> (occupants)\n",
      "\t\t * (Vehicle modification) - [requires] -> (law determination)\n",
      "\tExtracted Facts: 13\n",
      "\tRelevant Facts: 13\n"
     ]
    },
    {
     "name": "stderr",
     "output_type": "stream",
     "text": [
      " 98%|█████████▊| 197/200 [1:57:44<01:57, 39.06s/it]"
     ]
    },
    {
     "name": "stdout",
     "output_type": "stream",
     "text": [
      "\tExtracted Facts: 20\n",
      "\tRelevant Facts: 19\n",
      "\tDropped facts:\n",
      "\t\t * (Fuel filter) - [maintenance requirement] -> (not needed)\n",
      "\tExtracted Facts: 23\n",
      "\tRelevant Facts: 23\n"
     ]
    },
    {
     "name": "stderr",
     "output_type": "stream",
     "text": [
      " 99%|█████████▉| 198/200 [1:58:28<01:20, 40.42s/it]"
     ]
    },
    {
     "name": "stdout",
     "output_type": "stream",
     "text": [
      "\tExtracted Facts: 21\n",
      "\tRelevant Facts: 21\n",
      "\tExtracted Facts: 21\n",
      "\tRelevant Facts: 21\n"
     ]
    },
    {
     "name": "stderr",
     "output_type": "stream",
     "text": [
      "100%|█████████▉| 199/200 [1:59:07<00:40, 40.22s/it]"
     ]
    },
    {
     "name": "stdout",
     "output_type": "stream",
     "text": [
      "\tExtracted Facts: 15\n",
      "\tRelevant Facts: 15\n",
      "\tExtracted Facts: 15\n",
      "\tRelevant Facts: 15\n"
     ]
    },
    {
     "name": "stderr",
     "output_type": "stream",
     "text": [
      "100%|██████████| 200/200 [1:59:39<00:00, 35.90s/it]"
     ]
    },
    {
     "name": "stdout",
     "output_type": "stream",
     "text": [
      "\tExtracted Facts: 15\n",
      "\tRelevant Facts: 15\n",
      "ingesting facts\n",
      "pipeline completed\n",
      "CPU times: user 15.9 s, sys: 1.59 s, total: 17.5 s\n",
      "Wall time: 1h 59min 40s\n"
     ]
    },
    {
     "name": "stderr",
     "output_type": "stream",
     "text": [
      "\n"
     ]
    }
   ],
   "source": [
    "%%time\n",
    "\n",
    "from tqdm import tqdm\n",
    "\n",
    "print(\"formatting and ingesting sources\")\n",
    "source, chunks = create_sources(pages[200:],\n",
    "                                \"Ford 2020 Super Duty Owner's Manual\",\n",
    "                                \"pdf\",\n",
    "                                \"https://www.fordservicecontent.com/Ford_Content/Catalog/owner_information/2020-Ford-F250-F350-F450-F550-F600-Owners-Manual-version-1._om_EN_10_2019.pdf\")\n",
    "insert_sources(source, chunks)\n",
    "\n",
    "all_cited_facts = []\n",
    "print(\"extracting facts\")\n",
    "for chunk in tqdm(chunks):\n",
    "    try:\n",
    "        cited_facts = extract_facts(chunk)\n",
    "        insert_facts(cited_facts)\n",
    "        all_cited_facts.extend(extract_facts(chunk))\n",
    "    except Exception as e: print(e)\n",
    "print(\"ingesting facts\")\n",
    "#insert_facts(all_cited_facts)\n",
    "print(\"pipeline completed\")"
   ],
   "metadata": {
    "collapsed": false
   }
  },
  {
   "cell_type": "code",
   "execution_count": 23,
   "outputs": [],
   "source": [
    "import pickle\n",
    "\n",
    "with open('manual2.pickle', 'ab') as f:\n",
    "    pickle.dump(all_cited_facts, f)"
   ],
   "metadata": {
    "collapsed": false
   }
  },
  {
   "cell_type": "code",
   "execution_count": null,
   "outputs": [],
   "source": [],
   "metadata": {
    "collapsed": false
   }
  }
 ],
 "metadata": {
  "kernelspec": {
   "display_name": "Python 3",
   "language": "python",
   "name": "python3"
  },
  "language_info": {
   "codemirror_mode": {
    "name": "ipython",
    "version": 2
   },
   "file_extension": ".py",
   "mimetype": "text/x-python",
   "name": "python",
   "nbconvert_exporter": "python",
   "pygments_lexer": "ipython2",
   "version": "2.7.6"
  }
 },
 "nbformat": 4,
 "nbformat_minor": 0
}
